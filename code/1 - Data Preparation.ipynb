{
 "cells": [
  {
   "cell_type": "markdown",
   "metadata": {},
   "source": [
    "# Data Preparation\n",
    "\n",
    "Create the data needed to make and run our engine. We'll make an intermediate model that predicts if Phil will see his shadow based on the temperature data from Pennsylvania and the Northeast. Then, use that to make predictions over a broader range of data."
   ]
  },
  {
   "cell_type": "markdown",
   "metadata": {},
   "source": [
    "## Clean and Format Data"
   ]
  },
  {
   "cell_type": "code",
   "execution_count": 1,
   "metadata": {},
   "outputs": [],
   "source": [
    "import pandas as pd"
   ]
  },
  {
   "cell_type": "markdown",
   "metadata": {},
   "source": [
    "### Load Data\n",
    "\n",
    "Load the data from the CSV and use more terse column names."
   ]
  },
  {
   "cell_type": "code",
   "execution_count": 2,
   "metadata": {},
   "outputs": [],
   "source": [
    "df_phil = pd.read_csv('data/raw/punxsutawney-predictions.csv', encoding='utf-8')\n",
    "df_phil.columns = [\n",
    "    'year', 'shadow', \n",
    "    'feb_temp', 'feb_temp_ne', 'feb_temp_mw', 'feb_temp_pa',\n",
    "    'mar_temp', 'mar_temp_ne', 'mar_temp_mw', 'mar_temp_pa']"
   ]
  },
  {
   "cell_type": "code",
   "execution_count": 3,
   "metadata": {},
   "outputs": [
    {
     "data": {
      "text/html": [
       "<div>\n",
       "<style scoped>\n",
       "    .dataframe tbody tr th:only-of-type {\n",
       "        vertical-align: middle;\n",
       "    }\n",
       "\n",
       "    .dataframe tbody tr th {\n",
       "        vertical-align: top;\n",
       "    }\n",
       "\n",
       "    .dataframe thead th {\n",
       "        text-align: right;\n",
       "    }\n",
       "</style>\n",
       "<table border=\"1\" class=\"dataframe\">\n",
       "  <thead>\n",
       "    <tr style=\"text-align: right;\">\n",
       "      <th></th>\n",
       "      <th>year</th>\n",
       "      <th>shadow</th>\n",
       "      <th>feb_temp</th>\n",
       "      <th>feb_temp_ne</th>\n",
       "      <th>feb_temp_mw</th>\n",
       "      <th>feb_temp_pa</th>\n",
       "      <th>mar_temp</th>\n",
       "      <th>mar_temp_ne</th>\n",
       "      <th>mar_temp_mw</th>\n",
       "      <th>mar_temp_pa</th>\n",
       "    </tr>\n",
       "  </thead>\n",
       "  <tbody>\n",
       "    <tr>\n",
       "      <th>0</th>\n",
       "      <td>1898</td>\n",
       "      <td>Full Shadow</td>\n",
       "      <td>35.37</td>\n",
       "      <td>24.8</td>\n",
       "      <td>33.3</td>\n",
       "      <td>26.7</td>\n",
       "      <td>41.05</td>\n",
       "      <td>38.0</td>\n",
       "      <td>46.0</td>\n",
       "      <td>42.0</td>\n",
       "    </tr>\n",
       "    <tr>\n",
       "      <th>1</th>\n",
       "      <td>1900</td>\n",
       "      <td>Full Shadow</td>\n",
       "      <td>30.76</td>\n",
       "      <td>21.4</td>\n",
       "      <td>27.5</td>\n",
       "      <td>24.1</td>\n",
       "      <td>41.27</td>\n",
       "      <td>26.0</td>\n",
       "      <td>37.9</td>\n",
       "      <td>29.3</td>\n",
       "    </tr>\n",
       "    <tr>\n",
       "      <th>2</th>\n",
       "      <td>1901</td>\n",
       "      <td>Full Shadow</td>\n",
       "      <td>29.86</td>\n",
       "      <td>16.0</td>\n",
       "      <td>26.2</td>\n",
       "      <td>18.9</td>\n",
       "      <td>40.71</td>\n",
       "      <td>30.8</td>\n",
       "      <td>41.9</td>\n",
       "      <td>35.1</td>\n",
       "    </tr>\n",
       "    <tr>\n",
       "      <th>3</th>\n",
       "      <td>1903</td>\n",
       "      <td>Full Shadow</td>\n",
       "      <td>28.42</td>\n",
       "      <td>24.5</td>\n",
       "      <td>31.3</td>\n",
       "      <td>28.0</td>\n",
       "      <td>42.21</td>\n",
       "      <td>40.4</td>\n",
       "      <td>47.7</td>\n",
       "      <td>44.5</td>\n",
       "    </tr>\n",
       "    <tr>\n",
       "      <th>4</th>\n",
       "      <td>1904</td>\n",
       "      <td>Full Shadow</td>\n",
       "      <td>31.59</td>\n",
       "      <td>15.0</td>\n",
       "      <td>28.2</td>\n",
       "      <td>19.2</td>\n",
       "      <td>41.76</td>\n",
       "      <td>29.8</td>\n",
       "      <td>42.8</td>\n",
       "      <td>34.0</td>\n",
       "    </tr>\n",
       "    <tr>\n",
       "      <th>...</th>\n",
       "      <td>...</td>\n",
       "      <td>...</td>\n",
       "      <td>...</td>\n",
       "      <td>...</td>\n",
       "      <td>...</td>\n",
       "      <td>...</td>\n",
       "      <td>...</td>\n",
       "      <td>...</td>\n",
       "      <td>...</td>\n",
       "      <td>...</td>\n",
       "    </tr>\n",
       "    <tr>\n",
       "      <th>110</th>\n",
       "      <td>2012</td>\n",
       "      <td>Full Shadow</td>\n",
       "      <td>37.51</td>\n",
       "      <td>30.6</td>\n",
       "      <td>38.6</td>\n",
       "      <td>34.3</td>\n",
       "      <td>50.41</td>\n",
       "      <td>43.4</td>\n",
       "      <td>56.3</td>\n",
       "      <td>47.7</td>\n",
       "    </tr>\n",
       "    <tr>\n",
       "      <th>111</th>\n",
       "      <td>2013</td>\n",
       "      <td>No Shadow</td>\n",
       "      <td>34.77</td>\n",
       "      <td>25.3</td>\n",
       "      <td>33.4</td>\n",
       "      <td>27.4</td>\n",
       "      <td>40.91</td>\n",
       "      <td>32.7</td>\n",
       "      <td>37.3</td>\n",
       "      <td>33.9</td>\n",
       "    </tr>\n",
       "    <tr>\n",
       "      <th>112</th>\n",
       "      <td>2014</td>\n",
       "      <td>Full Shadow</td>\n",
       "      <td>32.13</td>\n",
       "      <td>21.0</td>\n",
       "      <td>27.1</td>\n",
       "      <td>22.8</td>\n",
       "      <td>40.51</td>\n",
       "      <td>26.0</td>\n",
       "      <td>38.0</td>\n",
       "      <td>30.3</td>\n",
       "    </tr>\n",
       "    <tr>\n",
       "      <th>113</th>\n",
       "      <td>2015</td>\n",
       "      <td>Full Shadow</td>\n",
       "      <td>32.99</td>\n",
       "      <td>12.1</td>\n",
       "      <td>23.4</td>\n",
       "      <td>16.1</td>\n",
       "      <td>45.39</td>\n",
       "      <td>27.8</td>\n",
       "      <td>41.6</td>\n",
       "      <td>31.6</td>\n",
       "    </tr>\n",
       "    <tr>\n",
       "      <th>114</th>\n",
       "      <td>2016</td>\n",
       "      <td>No Shadow</td>\n",
       "      <td>39.47</td>\n",
       "      <td>28.1</td>\n",
       "      <td>36.9</td>\n",
       "      <td>30.8</td>\n",
       "      <td>47.50</td>\n",
       "      <td>38.8</td>\n",
       "      <td>49.5</td>\n",
       "      <td>43.4</td>\n",
       "    </tr>\n",
       "  </tbody>\n",
       "</table>\n",
       "<p>115 rows × 10 columns</p>\n",
       "</div>"
      ],
      "text/plain": [
       "     year       shadow  feb_temp  feb_temp_ne  feb_temp_mw  feb_temp_pa  \\\n",
       "0    1898  Full Shadow     35.37         24.8         33.3         26.7   \n",
       "1    1900  Full Shadow     30.76         21.4         27.5         24.1   \n",
       "2    1901  Full Shadow     29.86         16.0         26.2         18.9   \n",
       "3    1903  Full Shadow     28.42         24.5         31.3         28.0   \n",
       "4    1904  Full Shadow     31.59         15.0         28.2         19.2   \n",
       "..    ...          ...       ...          ...          ...          ...   \n",
       "110  2012  Full Shadow     37.51         30.6         38.6         34.3   \n",
       "111  2013    No Shadow     34.77         25.3         33.4         27.4   \n",
       "112  2014  Full Shadow     32.13         21.0         27.1         22.8   \n",
       "113  2015  Full Shadow     32.99         12.1         23.4         16.1   \n",
       "114  2016    No Shadow     39.47         28.1         36.9         30.8   \n",
       "\n",
       "     mar_temp  mar_temp_ne  mar_temp_mw  mar_temp_pa  \n",
       "0       41.05         38.0         46.0         42.0  \n",
       "1       41.27         26.0         37.9         29.3  \n",
       "2       40.71         30.8         41.9         35.1  \n",
       "3       42.21         40.4         47.7         44.5  \n",
       "4       41.76         29.8         42.8         34.0  \n",
       "..        ...          ...          ...          ...  \n",
       "110     50.41         43.4         56.3         47.7  \n",
       "111     40.91         32.7         37.3         33.9  \n",
       "112     40.51         26.0         38.0         30.3  \n",
       "113     45.39         27.8         41.6         31.6  \n",
       "114     47.50         38.8         49.5         43.4  \n",
       "\n",
       "[115 rows x 10 columns]"
      ]
     },
     "execution_count": 3,
     "metadata": {},
     "output_type": "execute_result"
    }
   ],
   "source": [
    "df_phil"
   ]
  },
  {
   "cell_type": "markdown",
   "metadata": {},
   "source": [
    "### Filter Columns\n",
    "\n",
    "Select just the columns we need for our model and make the column names more focused."
   ]
  },
  {
   "cell_type": "code",
   "execution_count": 4,
   "metadata": {},
   "outputs": [],
   "source": [
    "df_filtered = df_phil.filter(items=['shadow', 'feb_temp_pa', 'feb_temp_ne', 'mar_temp_pa', 'mar_temp_ne'])\n",
    "df_filtered.columns = ['shadow', 'feb_state_temp', 'feb_region_temp', 'mar_state_temp', 'mar_region_temp']"
   ]
  },
  {
   "cell_type": "code",
   "execution_count": 5,
   "metadata": {
    "scrolled": false
   },
   "outputs": [
    {
     "data": {
      "text/html": [
       "<div>\n",
       "<style scoped>\n",
       "    .dataframe tbody tr th:only-of-type {\n",
       "        vertical-align: middle;\n",
       "    }\n",
       "\n",
       "    .dataframe tbody tr th {\n",
       "        vertical-align: top;\n",
       "    }\n",
       "\n",
       "    .dataframe thead th {\n",
       "        text-align: right;\n",
       "    }\n",
       "</style>\n",
       "<table border=\"1\" class=\"dataframe\">\n",
       "  <thead>\n",
       "    <tr style=\"text-align: right;\">\n",
       "      <th></th>\n",
       "      <th>shadow</th>\n",
       "      <th>feb_state_temp</th>\n",
       "      <th>feb_region_temp</th>\n",
       "      <th>mar_state_temp</th>\n",
       "      <th>mar_region_temp</th>\n",
       "    </tr>\n",
       "  </thead>\n",
       "  <tbody>\n",
       "    <tr>\n",
       "      <th>0</th>\n",
       "      <td>Full Shadow</td>\n",
       "      <td>26.7</td>\n",
       "      <td>24.8</td>\n",
       "      <td>42.0</td>\n",
       "      <td>38.0</td>\n",
       "    </tr>\n",
       "    <tr>\n",
       "      <th>1</th>\n",
       "      <td>Full Shadow</td>\n",
       "      <td>24.1</td>\n",
       "      <td>21.4</td>\n",
       "      <td>29.3</td>\n",
       "      <td>26.0</td>\n",
       "    </tr>\n",
       "    <tr>\n",
       "      <th>2</th>\n",
       "      <td>Full Shadow</td>\n",
       "      <td>18.9</td>\n",
       "      <td>16.0</td>\n",
       "      <td>35.1</td>\n",
       "      <td>30.8</td>\n",
       "    </tr>\n",
       "    <tr>\n",
       "      <th>3</th>\n",
       "      <td>Full Shadow</td>\n",
       "      <td>28.0</td>\n",
       "      <td>24.5</td>\n",
       "      <td>44.5</td>\n",
       "      <td>40.4</td>\n",
       "    </tr>\n",
       "    <tr>\n",
       "      <th>4</th>\n",
       "      <td>Full Shadow</td>\n",
       "      <td>19.2</td>\n",
       "      <td>15.0</td>\n",
       "      <td>34.0</td>\n",
       "      <td>29.8</td>\n",
       "    </tr>\n",
       "    <tr>\n",
       "      <th>...</th>\n",
       "      <td>...</td>\n",
       "      <td>...</td>\n",
       "      <td>...</td>\n",
       "      <td>...</td>\n",
       "      <td>...</td>\n",
       "    </tr>\n",
       "    <tr>\n",
       "      <th>110</th>\n",
       "      <td>Full Shadow</td>\n",
       "      <td>34.3</td>\n",
       "      <td>30.6</td>\n",
       "      <td>47.7</td>\n",
       "      <td>43.4</td>\n",
       "    </tr>\n",
       "    <tr>\n",
       "      <th>111</th>\n",
       "      <td>No Shadow</td>\n",
       "      <td>27.4</td>\n",
       "      <td>25.3</td>\n",
       "      <td>33.9</td>\n",
       "      <td>32.7</td>\n",
       "    </tr>\n",
       "    <tr>\n",
       "      <th>112</th>\n",
       "      <td>Full Shadow</td>\n",
       "      <td>22.8</td>\n",
       "      <td>21.0</td>\n",
       "      <td>30.3</td>\n",
       "      <td>26.0</td>\n",
       "    </tr>\n",
       "    <tr>\n",
       "      <th>113</th>\n",
       "      <td>Full Shadow</td>\n",
       "      <td>16.1</td>\n",
       "      <td>12.1</td>\n",
       "      <td>31.6</td>\n",
       "      <td>27.8</td>\n",
       "    </tr>\n",
       "    <tr>\n",
       "      <th>114</th>\n",
       "      <td>No Shadow</td>\n",
       "      <td>30.8</td>\n",
       "      <td>28.1</td>\n",
       "      <td>43.4</td>\n",
       "      <td>38.8</td>\n",
       "    </tr>\n",
       "  </tbody>\n",
       "</table>\n",
       "<p>115 rows × 5 columns</p>\n",
       "</div>"
      ],
      "text/plain": [
       "          shadow  feb_state_temp  feb_region_temp  mar_state_temp  \\\n",
       "0    Full Shadow            26.7             24.8            42.0   \n",
       "1    Full Shadow            24.1             21.4            29.3   \n",
       "2    Full Shadow            18.9             16.0            35.1   \n",
       "3    Full Shadow            28.0             24.5            44.5   \n",
       "4    Full Shadow            19.2             15.0            34.0   \n",
       "..           ...             ...              ...             ...   \n",
       "110  Full Shadow            34.3             30.6            47.7   \n",
       "111    No Shadow            27.4             25.3            33.9   \n",
       "112  Full Shadow            22.8             21.0            30.3   \n",
       "113  Full Shadow            16.1             12.1            31.6   \n",
       "114    No Shadow            30.8             28.1            43.4   \n",
       "\n",
       "     mar_region_temp  \n",
       "0               38.0  \n",
       "1               26.0  \n",
       "2               30.8  \n",
       "3               40.4  \n",
       "4               29.8  \n",
       "..               ...  \n",
       "110             43.4  \n",
       "111             32.7  \n",
       "112             26.0  \n",
       "113             27.8  \n",
       "114             38.8  \n",
       "\n",
       "[115 rows x 5 columns]"
      ]
     },
     "execution_count": 5,
     "metadata": {},
     "output_type": "execute_result"
    }
   ],
   "source": [
    "df_filtered"
   ]
  },
  {
   "cell_type": "markdown",
   "metadata": {},
   "source": [
    "### Understand Our Data"
   ]
  },
  {
   "cell_type": "code",
   "execution_count": 6,
   "metadata": {},
   "outputs": [
    {
     "data": {
      "text/plain": [
       "Full Shadow    100\n",
       "No Shadow       15\n",
       "Name: shadow, dtype: int64"
      ]
     },
     "execution_count": 6,
     "metadata": {},
     "output_type": "execute_result"
    }
   ],
   "source": [
    "df_filtered.shadow.value_counts()"
   ]
  },
  {
   "cell_type": "code",
   "execution_count": 7,
   "metadata": {},
   "outputs": [
    {
     "data": {
      "text/plain": [
       "Full Shadow    0.869565\n",
       "No Shadow      0.130435\n",
       "Name: shadow, dtype: float64"
      ]
     },
     "execution_count": 7,
     "metadata": {},
     "output_type": "execute_result"
    }
   ],
   "source": [
    "df_filtered.shadow.value_counts(normalize=True)"
   ]
  },
  {
   "cell_type": "code",
   "execution_count": 8,
   "metadata": {},
   "outputs": [
    {
     "data": {
      "text/plain": [
       "array([[<AxesSubplot:title={'center':'feb_state_temp'}>,\n",
       "        <AxesSubplot:title={'center':'feb_region_temp'}>],\n",
       "       [<AxesSubplot:title={'center':'mar_state_temp'}>,\n",
       "        <AxesSubplot:title={'center':'mar_region_temp'}>]], dtype=object)"
      ]
     },
     "execution_count": 8,
     "metadata": {},
     "output_type": "execute_result"
    },
    {
     "data": {
      "image/png": "[encoded data removed]",
      "text/plain": [
       "<Figure size 432x288 with 4 Axes>"
      ]
     },
     "metadata": {
      "needs_background": "light"
     },
     "output_type": "display_data"
    }
   ],
   "source": [
    "df_filtered.hist()"
   ]
  },
  {
   "cell_type": "code",
   "execution_count": 9,
   "metadata": {
    "scrolled": false
   },
   "outputs": [
    {
     "data": {
      "text/plain": [
       "shadow\n",
       "Full Shadow    [[AxesSubplot(0.125,0.551739;0.336957x0.328261...\n",
       "No Shadow      [[AxesSubplot(0.125,0.551739;0.336957x0.328261...\n",
       "dtype: object"
      ]
     },
     "execution_count": 9,
     "metadata": {},
     "output_type": "execute_result"
    },
    {
     "data": {
      "image/png": "[encoded data removed]",
      "text/plain": [
       "<Figure size 432x288 with 4 Axes>"
      ]
     },
     "metadata": {
      "needs_background": "light"
     },
     "output_type": "display_data"
    },
    {
     "data": {
      "image/png": "[encoded data removed]",
      "text/plain": [
       "<Figure size 432x288 with 4 Axes>"
      ]
     },
     "metadata": {
      "needs_background": "light"
     },
     "output_type": "display_data"
    }
   ],
   "source": [
    "df_filtered.groupby('shadow').hist()"
   ]
  },
  {
   "cell_type": "markdown",
   "metadata": {},
   "source": [
    "### Targets & Features\n",
    "\n",
    "Get the values for the target and the features."
   ]
  },
  {
   "cell_type": "code",
   "execution_count": 10,
   "metadata": {},
   "outputs": [],
   "source": [
    "df_target = df_filtered.iloc[:, 0]\n",
    "df_features = df_filtered.iloc[:, 1:].astype(float)\n",
    "\n",
    "X, y = df_features.values, df_target.values"
   ]
  },
  {
   "cell_type": "code",
   "execution_count": 11,
   "metadata": {},
   "outputs": [
    {
     "data": {
      "text/plain": [
       "((115, 4), (115,))"
      ]
     },
     "execution_count": 11,
     "metadata": {},
     "output_type": "execute_result"
    }
   ],
   "source": [
    "X.shape, y.shape"
   ]
  },
  {
   "cell_type": "markdown",
   "metadata": {},
   "source": [
    "### Balancing Our Data\n",
    "\n",
    "Our data is way out of balance. Balance it to improve the results of our model."
   ]
  },
  {
   "cell_type": "code",
   "execution_count": 12,
   "metadata": {},
   "outputs": [],
   "source": [
    "from imblearn.over_sampling import RandomOverSampler"
   ]
  },
  {
   "cell_type": "code",
   "execution_count": 13,
   "metadata": {},
   "outputs": [],
   "source": [
    "oversampler = RandomOverSampler(sampling_strategy='minority')\n",
    "X_over, y_over = oversampler.fit_resample(X, y)"
   ]
  },
  {
   "cell_type": "code",
   "execution_count": 14,
   "metadata": {},
   "outputs": [
    {
     "data": {
      "text/plain": [
       "((200, 4), (200,))"
      ]
     },
     "execution_count": 14,
     "metadata": {},
     "output_type": "execute_result"
    }
   ],
   "source": [
    "X_over.shape, y_over.shape"
   ]
  },
  {
   "cell_type": "markdown",
   "metadata": {},
   "source": [
    "## Build Some Models"
   ]
  },
  {
   "cell_type": "code",
   "execution_count": 15,
   "metadata": {},
   "outputs": [],
   "source": [
    "import pickle\n",
    "\n",
    "models = []"
   ]
  },
  {
   "cell_type": "markdown",
   "metadata": {},
   "source": [
    "### Train/Test Split\n",
    "\n",
    "Split the training and testing data 80/20."
   ]
  },
  {
   "cell_type": "code",
   "execution_count": 16,
   "metadata": {},
   "outputs": [],
   "source": [
    "from sklearn.model_selection import train_test_split"
   ]
  },
  {
   "cell_type": "code",
   "execution_count": 17,
   "metadata": {},
   "outputs": [],
   "source": [
    "X_train, X_test, y_train, y_test = train_test_split(X_over, y_over, train_size=0.80, test_size=0.20, random_state=0)"
   ]
  },
  {
   "cell_type": "code",
   "execution_count": 18,
   "metadata": {},
   "outputs": [
    {
     "data": {
      "text/plain": [
       "((160, 4), (40, 4), (160,), (40,))"
      ]
     },
     "execution_count": 18,
     "metadata": {},
     "output_type": "execute_result"
    }
   ],
   "source": [
    "X_train.shape, X_test.shape, y_train.shape, y_test.shape"
   ]
  },
  {
   "cell_type": "markdown",
   "metadata": {},
   "source": [
    "### Train a Support Vector Machine"
   ]
  },
  {
   "cell_type": "code",
   "execution_count": 19,
   "metadata": {},
   "outputs": [],
   "source": [
    "from sklearn.svm import LinearSVC"
   ]
  },
  {
   "cell_type": "code",
   "execution_count": 20,
   "metadata": {},
   "outputs": [],
   "source": [
    "svm = LinearSVC(dual=False, random_state=0).fit(X_train, y_train)"
   ]
  },
  {
   "cell_type": "code",
   "execution_count": 21,
   "metadata": {},
   "outputs": [
    {
     "data": {
      "text/plain": [
       "0.625"
      ]
     },
     "execution_count": 21,
     "metadata": {},
     "output_type": "execute_result"
    }
   ],
   "source": [
    "score = svm.score(X_test, y_test)\n",
    "models.append((score, 'Support Vector Machine', svm))\n",
    "score"
   ]
  },
  {
   "cell_type": "code",
   "execution_count": 22,
   "metadata": {},
   "outputs": [],
   "source": [
    "with open('model/punxsutawney-svm.pickle', 'wb') as file:\n",
    "  pickle.dump(svm, file)"
   ]
  },
  {
   "cell_type": "markdown",
   "metadata": {},
   "source": [
    "### Train a Logistic Regresion"
   ]
  },
  {
   "cell_type": "code",
   "execution_count": 23,
   "metadata": {},
   "outputs": [],
   "source": [
    "from sklearn.linear_model import LogisticRegression"
   ]
  },
  {
   "cell_type": "code",
   "execution_count": 24,
   "metadata": {},
   "outputs": [],
   "source": [
    "lr = LogisticRegression(solver='lbfgs', multi_class='ovr', random_state=0).fit(X_train, y_train)"
   ]
  },
  {
   "cell_type": "code",
   "execution_count": 25,
   "metadata": {
    "scrolled": true
   },
   "outputs": [
    {
     "data": {
      "text/plain": [
       "0.6"
      ]
     },
     "execution_count": 25,
     "metadata": {},
     "output_type": "execute_result"
    }
   ],
   "source": [
    "score = lr.score(X_test, y_test)\n",
    "models.append((score, 'Logistic Regression', lr))\n",
    "score"
   ]
  },
  {
   "cell_type": "code",
   "execution_count": 26,
   "metadata": {},
   "outputs": [],
   "source": [
    "with open('model/punxsutawney-lr.pickle', 'wb') as file:\n",
    "  pickle.dump(lr, file)"
   ]
  },
  {
   "cell_type": "markdown",
   "metadata": {},
   "source": [
    "### Train a Random Forest"
   ]
  },
  {
   "cell_type": "code",
   "execution_count": 27,
   "metadata": {},
   "outputs": [],
   "source": [
    "from sklearn.ensemble import RandomForestClassifier"
   ]
  },
  {
   "cell_type": "code",
   "execution_count": 28,
   "metadata": {},
   "outputs": [],
   "source": [
    "rf = RandomForestClassifier(n_estimators=100, max_depth=5, random_state=0).fit(X_train, y_train)"
   ]
  },
  {
   "cell_type": "code",
   "execution_count": 29,
   "metadata": {},
   "outputs": [
    {
     "data": {
      "text/plain": [
       "0.875"
      ]
     },
     "execution_count": 29,
     "metadata": {},
     "output_type": "execute_result"
    }
   ],
   "source": [
    "score = rf.score(X_test, y_test)\n",
    "models.append((score, 'Random Forest', rf))\n",
    "score"
   ]
  },
  {
   "cell_type": "code",
   "execution_count": 30,
   "metadata": {},
   "outputs": [],
   "source": [
    "with open('model/punxsutawney-rf.pickle', 'wb') as file:\n",
    "  pickle.dump(rf, file)"
   ]
  },
  {
   "cell_type": "markdown",
   "metadata": {},
   "source": [
    "### Select a Model\n",
    "\n",
    "Select the model with the highest score."
   ]
  },
  {
   "cell_type": "code",
   "execution_count": 31,
   "metadata": {
    "scrolled": false
   },
   "outputs": [
    {
     "data": {
      "text/plain": [
       "[(0.875, 'Random Forest', RandomForestClassifier(max_depth=5, random_state=0)),\n",
       " (0.625, 'Support Vector Machine', LinearSVC(dual=False, random_state=0)),\n",
       " (0.6,\n",
       "  'Logistic Regression',\n",
       "  LogisticRegression(multi_class='ovr', random_state=0))]"
      ]
     },
     "execution_count": 31,
     "metadata": {},
     "output_type": "execute_result"
    }
   ],
   "source": [
    "models.sort(reverse=True)\n",
    "models"
   ]
  },
  {
   "cell_type": "code",
   "execution_count": 32,
   "metadata": {},
   "outputs": [
    {
     "data": {
      "text/plain": [
       "RandomForestClassifier(max_depth=5, random_state=0)"
      ]
     },
     "execution_count": 32,
     "metadata": {},
     "output_type": "execute_result"
    }
   ],
   "source": [
    "model = models[0][2]\n",
    "model"
   ]
  },
  {
   "cell_type": "code",
   "execution_count": 33,
   "metadata": {},
   "outputs": [],
   "source": [
    "with open('model/punxsutawney.pickle', 'wb') as file:\n",
    "  pickle.dump(model, file)"
   ]
  },
  {
   "cell_type": "markdown",
   "metadata": {},
   "source": [
    "## Merge Data\n",
    "\n",
    "Blend all the state, region, and temperature data into a single dataset. But only where groundhogs are found."
   ]
  },
  {
   "cell_type": "markdown",
   "metadata": {},
   "source": [
    "### Regions with Groundhogs\n",
    "\n",
    "We'll just hard-code this."
   ]
  },
  {
   "cell_type": "code",
   "execution_count": 34,
   "metadata": {},
   "outputs": [],
   "source": [
    "regions_with_groundhogs = ['Upper Midwest', 'Ohio Valley', 'Northeast']"
   ]
  },
  {
   "cell_type": "markdown",
   "metadata": {},
   "source": [
    "### Read in State Data\n",
    "\n",
    "We only care about regions with ground hogs so filter the others out."
   ]
  },
  {
   "cell_type": "code",
   "execution_count": 35,
   "metadata": {
    "scrolled": false
   },
   "outputs": [
    {
     "data": {
      "text/html": [
       "<div>\n",
       "<style scoped>\n",
       "    .dataframe tbody tr th:only-of-type {\n",
       "        vertical-align: middle;\n",
       "    }\n",
       "\n",
       "    .dataframe tbody tr th {\n",
       "        vertical-align: top;\n",
       "    }\n",
       "\n",
       "    .dataframe thead th {\n",
       "        text-align: right;\n",
       "    }\n",
       "</style>\n",
       "<table border=\"1\" class=\"dataframe\">\n",
       "  <thead>\n",
       "    <tr style=\"text-align: right;\">\n",
       "      <th></th>\n",
       "      <th>state</th>\n",
       "      <th>latitude</th>\n",
       "      <th>longitude</th>\n",
       "      <th>region</th>\n",
       "    </tr>\n",
       "  </thead>\n",
       "  <tbody>\n",
       "    <tr>\n",
       "      <th>5</th>\n",
       "      <td>Connecticut</td>\n",
       "      <td>41.6219</td>\n",
       "      <td>-72.7273</td>\n",
       "      <td>Northeast</td>\n",
       "    </tr>\n",
       "    <tr>\n",
       "      <th>6</th>\n",
       "      <td>Delaware</td>\n",
       "      <td>38.9896</td>\n",
       "      <td>-75.5050</td>\n",
       "      <td>Northeast</td>\n",
       "    </tr>\n",
       "    <tr>\n",
       "      <th>10</th>\n",
       "      <td>Illinois</td>\n",
       "      <td>40.0417</td>\n",
       "      <td>-89.1965</td>\n",
       "      <td>Ohio Valley</td>\n",
       "    </tr>\n",
       "    <tr>\n",
       "      <th>11</th>\n",
       "      <td>Indiana</td>\n",
       "      <td>39.8942</td>\n",
       "      <td>-86.2816</td>\n",
       "      <td>Ohio Valley</td>\n",
       "    </tr>\n",
       "    <tr>\n",
       "      <th>12</th>\n",
       "      <td>Iowa</td>\n",
       "      <td>42.0751</td>\n",
       "      <td>-93.4960</td>\n",
       "      <td>Upper Midwest</td>\n",
       "    </tr>\n",
       "    <tr>\n",
       "      <th>14</th>\n",
       "      <td>Kentucky</td>\n",
       "      <td>37.5347</td>\n",
       "      <td>-85.3021</td>\n",
       "      <td>Ohio Valley</td>\n",
       "    </tr>\n",
       "    <tr>\n",
       "      <th>16</th>\n",
       "      <td>Maine</td>\n",
       "      <td>45.3695</td>\n",
       "      <td>-69.2428</td>\n",
       "      <td>Northeast</td>\n",
       "    </tr>\n",
       "    <tr>\n",
       "      <th>17</th>\n",
       "      <td>Maryland</td>\n",
       "      <td>39.0550</td>\n",
       "      <td>-76.7909</td>\n",
       "      <td>Northeast</td>\n",
       "    </tr>\n",
       "    <tr>\n",
       "      <th>18</th>\n",
       "      <td>Massachusetts</td>\n",
       "      <td>42.2596</td>\n",
       "      <td>-71.8083</td>\n",
       "      <td>Northeast</td>\n",
       "    </tr>\n",
       "    <tr>\n",
       "      <th>19</th>\n",
       "      <td>Michigan</td>\n",
       "      <td>44.3467</td>\n",
       "      <td>-85.4102</td>\n",
       "      <td>Upper Midwest</td>\n",
       "    </tr>\n",
       "    <tr>\n",
       "      <th>20</th>\n",
       "      <td>Minnesota</td>\n",
       "      <td>46.2807</td>\n",
       "      <td>-94.3053</td>\n",
       "      <td>Upper Midwest</td>\n",
       "    </tr>\n",
       "    <tr>\n",
       "      <th>22</th>\n",
       "      <td>Missouri</td>\n",
       "      <td>38.3566</td>\n",
       "      <td>-92.4580</td>\n",
       "      <td>Ohio Valley</td>\n",
       "    </tr>\n",
       "    <tr>\n",
       "      <th>26</th>\n",
       "      <td>New Hampshire</td>\n",
       "      <td>43.6805</td>\n",
       "      <td>-71.5811</td>\n",
       "      <td>Northeast</td>\n",
       "    </tr>\n",
       "    <tr>\n",
       "      <th>27</th>\n",
       "      <td>New Jersey</td>\n",
       "      <td>40.1907</td>\n",
       "      <td>-74.6728</td>\n",
       "      <td>Northeast</td>\n",
       "    </tr>\n",
       "    <tr>\n",
       "      <th>29</th>\n",
       "      <td>New York</td>\n",
       "      <td>42.9538</td>\n",
       "      <td>-75.5268</td>\n",
       "      <td>Northeast</td>\n",
       "    </tr>\n",
       "    <tr>\n",
       "      <th>32</th>\n",
       "      <td>Ohio</td>\n",
       "      <td>40.2862</td>\n",
       "      <td>-82.7937</td>\n",
       "      <td>Ohio Valley</td>\n",
       "    </tr>\n",
       "    <tr>\n",
       "      <th>35</th>\n",
       "      <td>Pennsylvania</td>\n",
       "      <td>40.8781</td>\n",
       "      <td>-77.7996</td>\n",
       "      <td>Northeast</td>\n",
       "    </tr>\n",
       "    <tr>\n",
       "      <th>36</th>\n",
       "      <td>Rhode Island</td>\n",
       "      <td>41.6762</td>\n",
       "      <td>-71.5562</td>\n",
       "      <td>Northeast</td>\n",
       "    </tr>\n",
       "    <tr>\n",
       "      <th>39</th>\n",
       "      <td>Tennessee</td>\n",
       "      <td>35.8580</td>\n",
       "      <td>-86.3505</td>\n",
       "      <td>Ohio Valley</td>\n",
       "    </tr>\n",
       "    <tr>\n",
       "      <th>42</th>\n",
       "      <td>Vermont</td>\n",
       "      <td>44.0687</td>\n",
       "      <td>-72.6658</td>\n",
       "      <td>Northeast</td>\n",
       "    </tr>\n",
       "    <tr>\n",
       "      <th>45</th>\n",
       "      <td>West Virginia</td>\n",
       "      <td>38.6409</td>\n",
       "      <td>-80.6227</td>\n",
       "      <td>Ohio Valley</td>\n",
       "    </tr>\n",
       "    <tr>\n",
       "      <th>46</th>\n",
       "      <td>Wisconsin</td>\n",
       "      <td>44.6243</td>\n",
       "      <td>-89.9941</td>\n",
       "      <td>Upper Midwest</td>\n",
       "    </tr>\n",
       "  </tbody>\n",
       "</table>\n",
       "</div>"
      ],
      "text/plain": [
       "            state  latitude  longitude         region\n",
       "5     Connecticut   41.6219   -72.7273      Northeast\n",
       "6        Delaware   38.9896   -75.5050      Northeast\n",
       "10       Illinois   40.0417   -89.1965    Ohio Valley\n",
       "11        Indiana   39.8942   -86.2816    Ohio Valley\n",
       "12           Iowa   42.0751   -93.4960  Upper Midwest\n",
       "14       Kentucky   37.5347   -85.3021    Ohio Valley\n",
       "16          Maine   45.3695   -69.2428      Northeast\n",
       "17       Maryland   39.0550   -76.7909      Northeast\n",
       "18  Massachusetts   42.2596   -71.8083      Northeast\n",
       "19       Michigan   44.3467   -85.4102  Upper Midwest\n",
       "20      Minnesota   46.2807   -94.3053  Upper Midwest\n",
       "22       Missouri   38.3566   -92.4580    Ohio Valley\n",
       "26  New Hampshire   43.6805   -71.5811      Northeast\n",
       "27     New Jersey   40.1907   -74.6728      Northeast\n",
       "29       New York   42.9538   -75.5268      Northeast\n",
       "32           Ohio   40.2862   -82.7937    Ohio Valley\n",
       "35   Pennsylvania   40.8781   -77.7996      Northeast\n",
       "36   Rhode Island   41.6762   -71.5562      Northeast\n",
       "39      Tennessee   35.8580   -86.3505    Ohio Valley\n",
       "42        Vermont   44.0687   -72.6658      Northeast\n",
       "45  West Virginia   38.6409   -80.6227    Ohio Valley\n",
       "46      Wisconsin   44.6243   -89.9941  Upper Midwest"
      ]
     },
     "execution_count": 35,
     "metadata": {},
     "output_type": "execute_result"
    }
   ],
   "source": [
    "df_states = pd.read_csv('data/raw/states.csv', encoding='utf-8')\n",
    "df_states = df_states.loc[df_states['region'].isin(regions_with_groundhogs)]\n",
    "df_states"
   ]
  },
  {
   "cell_type": "markdown",
   "metadata": {},
   "source": [
    "### Find States with Groundhogs\n",
    "\n",
    "Let's get a list of states with ground hogs from this newly filtered list."
   ]
  },
  {
   "cell_type": "code",
   "execution_count": 36,
   "metadata": {
    "scrolled": false
   },
   "outputs": [
    {
     "data": {
      "text/plain": [
       "array(['Connecticut', 'Delaware', 'Illinois', 'Indiana', 'Iowa',\n",
       "       'Kentucky', 'Maine', 'Maryland', 'Massachusetts', 'Michigan',\n",
       "       'Minnesota', 'Missouri', 'New Hampshire', 'New Jersey', 'New York',\n",
       "       'Ohio', 'Pennsylvania', 'Rhode Island', 'Tennessee', 'Vermont',\n",
       "       'West Virginia', 'Wisconsin'], dtype=object)"
      ]
     },
     "execution_count": 36,
     "metadata": {},
     "output_type": "execute_result"
    }
   ],
   "source": [
    "states_with_groundhogs = df_states['state'].values\n",
    "states_with_groundhogs"
   ]
  },
  {
   "cell_type": "markdown",
   "metadata": {},
   "source": [
    "### Load Region Temperature Data\n",
    "\n",
    "And filter out regions without groundhogs."
   ]
  },
  {
   "cell_type": "code",
   "execution_count": 37,
   "metadata": {},
   "outputs": [
    {
     "data": {
      "text/html": [
       "<div>\n",
       "<style scoped>\n",
       "    .dataframe tbody tr th:only-of-type {\n",
       "        vertical-align: middle;\n",
       "    }\n",
       "\n",
       "    .dataframe tbody tr th {\n",
       "        vertical-align: top;\n",
       "    }\n",
       "\n",
       "    .dataframe thead th {\n",
       "        text-align: right;\n",
       "    }\n",
       "</style>\n",
       "<table border=\"1\" class=\"dataframe\">\n",
       "  <thead>\n",
       "    <tr style=\"text-align: right;\">\n",
       "      <th></th>\n",
       "      <th>region</th>\n",
       "      <th>month</th>\n",
       "      <th>region_temp</th>\n",
       "    </tr>\n",
       "  </thead>\n",
       "  <tbody>\n",
       "    <tr>\n",
       "      <th>0</th>\n",
       "      <td>Northeast</td>\n",
       "      <td>189501</td>\n",
       "      <td>18.8</td>\n",
       "    </tr>\n",
       "    <tr>\n",
       "      <th>1</th>\n",
       "      <td>Northeast</td>\n",
       "      <td>189502</td>\n",
       "      <td>15.6</td>\n",
       "    </tr>\n",
       "    <tr>\n",
       "      <th>2</th>\n",
       "      <td>Northeast</td>\n",
       "      <td>189503</td>\n",
       "      <td>27.6</td>\n",
       "    </tr>\n",
       "    <tr>\n",
       "      <th>3</th>\n",
       "      <td>Northeast</td>\n",
       "      <td>189504</td>\n",
       "      <td>43.5</td>\n",
       "    </tr>\n",
       "    <tr>\n",
       "      <th>4</th>\n",
       "      <td>Northeast</td>\n",
       "      <td>189505</td>\n",
       "      <td>57.1</td>\n",
       "    </tr>\n",
       "    <tr>\n",
       "      <th>...</th>\n",
       "      <td>...</td>\n",
       "      <td>...</td>\n",
       "      <td>...</td>\n",
       "    </tr>\n",
       "    <tr>\n",
       "      <th>4528</th>\n",
       "      <td>Ohio Valley</td>\n",
       "      <td>202007</td>\n",
       "      <td>77.8</td>\n",
       "    </tr>\n",
       "    <tr>\n",
       "      <th>4529</th>\n",
       "      <td>Ohio Valley</td>\n",
       "      <td>202008</td>\n",
       "      <td>73.6</td>\n",
       "    </tr>\n",
       "    <tr>\n",
       "      <th>4530</th>\n",
       "      <td>Ohio Valley</td>\n",
       "      <td>202009</td>\n",
       "      <td>66.6</td>\n",
       "    </tr>\n",
       "    <tr>\n",
       "      <th>4531</th>\n",
       "      <td>Ohio Valley</td>\n",
       "      <td>202010</td>\n",
       "      <td>54.8</td>\n",
       "    </tr>\n",
       "    <tr>\n",
       "      <th>4532</th>\n",
       "      <td>Ohio Valley</td>\n",
       "      <td>202011</td>\n",
       "      <td>48.6</td>\n",
       "    </tr>\n",
       "  </tbody>\n",
       "</table>\n",
       "<p>4533 rows × 3 columns</p>\n",
       "</div>"
      ],
      "text/plain": [
       "           region   month  region_temp\n",
       "0       Northeast  189501         18.8\n",
       "1       Northeast  189502         15.6\n",
       "2       Northeast  189503         27.6\n",
       "3       Northeast  189504         43.5\n",
       "4       Northeast  189505         57.1\n",
       "...           ...     ...          ...\n",
       "4528  Ohio Valley  202007         77.8\n",
       "4529  Ohio Valley  202008         73.6\n",
       "4530  Ohio Valley  202009         66.6\n",
       "4531  Ohio Valley  202010         54.8\n",
       "4532  Ohio Valley  202011         48.6\n",
       "\n",
       "[4533 rows x 3 columns]"
      ]
     },
     "execution_count": 37,
     "metadata": {},
     "output_type": "execute_result"
    }
   ],
   "source": [
    "df_avg_region = pd.read_csv('data/raw/average-monthly-temperatures-by-region.csv', encoding='utf-8')\n",
    "df_avg_region = df_avg_region.filter(items=['Location', 'Date', 'Value'])\n",
    "df_avg_region.columns = ['region', 'month', 'region_temp']\n",
    "df_avg_region = df_avg_region.loc[df_avg_region['region'].isin(regions_with_groundhogs)]\n",
    "df_avg_region"
   ]
  },
  {
   "cell_type": "markdown",
   "metadata": {},
   "source": [
    "### Load State Temperature Data\n",
    "\n",
    "And filter out the states we don't care about. In otherwords, states without groundhogs."
   ]
  },
  {
   "cell_type": "code",
   "execution_count": 38,
   "metadata": {
    "scrolled": false
   },
   "outputs": [
    {
     "data": {
      "text/html": [
       "<div>\n",
       "<style scoped>\n",
       "    .dataframe tbody tr th:only-of-type {\n",
       "        vertical-align: middle;\n",
       "    }\n",
       "\n",
       "    .dataframe tbody tr th {\n",
       "        vertical-align: top;\n",
       "    }\n",
       "\n",
       "    .dataframe thead th {\n",
       "        text-align: right;\n",
       "    }\n",
       "</style>\n",
       "<table border=\"1\" class=\"dataframe\">\n",
       "  <thead>\n",
       "    <tr style=\"text-align: right;\">\n",
       "      <th></th>\n",
       "      <th>state</th>\n",
       "      <th>month</th>\n",
       "      <th>state_temp</th>\n",
       "    </tr>\n",
       "  </thead>\n",
       "  <tbody>\n",
       "    <tr>\n",
       "      <th>7555</th>\n",
       "      <td>Connecticut</td>\n",
       "      <td>189501</td>\n",
       "      <td>22.8</td>\n",
       "    </tr>\n",
       "    <tr>\n",
       "      <th>7556</th>\n",
       "      <td>Connecticut</td>\n",
       "      <td>189502</td>\n",
       "      <td>18.7</td>\n",
       "    </tr>\n",
       "    <tr>\n",
       "      <th>7557</th>\n",
       "      <td>Connecticut</td>\n",
       "      <td>189503</td>\n",
       "      <td>31.5</td>\n",
       "    </tr>\n",
       "    <tr>\n",
       "      <th>7558</th>\n",
       "      <td>Connecticut</td>\n",
       "      <td>189504</td>\n",
       "      <td>44.5</td>\n",
       "    </tr>\n",
       "    <tr>\n",
       "      <th>7559</th>\n",
       "      <td>Connecticut</td>\n",
       "      <td>189505</td>\n",
       "      <td>57.8</td>\n",
       "    </tr>\n",
       "    <tr>\n",
       "      <th>...</th>\n",
       "      <td>...</td>\n",
       "      <td>...</td>\n",
       "      <td>...</td>\n",
       "    </tr>\n",
       "    <tr>\n",
       "      <th>71012</th>\n",
       "      <td>Wisconsin</td>\n",
       "      <td>202007</td>\n",
       "      <td>72.0</td>\n",
       "    </tr>\n",
       "    <tr>\n",
       "      <th>71013</th>\n",
       "      <td>Wisconsin</td>\n",
       "      <td>202008</td>\n",
       "      <td>68.4</td>\n",
       "    </tr>\n",
       "    <tr>\n",
       "      <th>71014</th>\n",
       "      <td>Wisconsin</td>\n",
       "      <td>202009</td>\n",
       "      <td>57.4</td>\n",
       "    </tr>\n",
       "    <tr>\n",
       "      <th>71015</th>\n",
       "      <td>Wisconsin</td>\n",
       "      <td>202010</td>\n",
       "      <td>41.2</td>\n",
       "    </tr>\n",
       "    <tr>\n",
       "      <th>71016</th>\n",
       "      <td>Wisconsin</td>\n",
       "      <td>202011</td>\n",
       "      <td>38.7</td>\n",
       "    </tr>\n",
       "  </tbody>\n",
       "</table>\n",
       "<p>33242 rows × 3 columns</p>\n",
       "</div>"
      ],
      "text/plain": [
       "             state   month  state_temp\n",
       "7555   Connecticut  189501        22.8\n",
       "7556   Connecticut  189502        18.7\n",
       "7557   Connecticut  189503        31.5\n",
       "7558   Connecticut  189504        44.5\n",
       "7559   Connecticut  189505        57.8\n",
       "...            ...     ...         ...\n",
       "71012    Wisconsin  202007        72.0\n",
       "71013    Wisconsin  202008        68.4\n",
       "71014    Wisconsin  202009        57.4\n",
       "71015    Wisconsin  202010        41.2\n",
       "71016    Wisconsin  202011        38.7\n",
       "\n",
       "[33242 rows x 3 columns]"
      ]
     },
     "execution_count": 38,
     "metadata": {},
     "output_type": "execute_result"
    }
   ],
   "source": [
    "df_avg_state = pd.read_csv('data/raw/average-monthly-temperatures-by-state.csv', encoding='utf-8')\n",
    "df_avg_state = df_avg_state.filter(items=['Location', 'Date', 'Value'])\n",
    "df_avg_state.columns = ['state', 'month', 'state_temp']\n",
    "df_avg_state = df_avg_state.loc[df_avg_state['state'].isin(states_with_groundhogs)]\n",
    "df_avg_state"
   ]
  },
  {
   "cell_type": "markdown",
   "metadata": {},
   "source": [
    "### Merge State & Region Data\n",
    "\n",
    "Separate the year from the month, filter out everything but February and March, and then flatten the two months together."
   ]
  },
  {
   "cell_type": "markdown",
   "metadata": {},
   "source": [
    "We'll need a list of months to decoded the month in the data."
   ]
  },
  {
   "cell_type": "code",
   "execution_count": 39,
   "metadata": {},
   "outputs": [],
   "source": [
    "months = ['Jan', 'Feb', 'Mar', 'Apr', 'May', 'June', 'July', 'Aug', 'Sep', 'Oct', 'Nov', 'Dec']"
   ]
  },
  {
   "cell_type": "markdown",
   "metadata": {},
   "source": [
    "Merge state and region data."
   ]
  },
  {
   "cell_type": "code",
   "execution_count": 40,
   "metadata": {},
   "outputs": [],
   "source": [
    "df_merged = df_avg_state.merge(df_states, on='state').merge(df_avg_region, on=['region', 'month'])"
   ]
  },
  {
   "cell_type": "markdown",
   "metadata": {},
   "source": [
    "Take the month column and break it into year and and month."
   ]
  },
  {
   "cell_type": "code",
   "execution_count": 41,
   "metadata": {},
   "outputs": [],
   "source": [
    "df_merged['year'] = df_merged['month'].transform(lambda yyyymm: yyyymm // 100).astype(str)\n",
    "df_merged['month'] = df_merged['month'].transform(lambda yyyymm: months[yyyymm % 100 - 1])"
   ]
  },
  {
   "cell_type": "markdown",
   "metadata": {},
   "source": [
    "Filter out months that aren't six weeks after Groundhog Day."
   ]
  },
  {
   "cell_type": "code",
   "execution_count": 42,
   "metadata": {},
   "outputs": [],
   "source": [
    "df_merged = df_merged.loc[df_merged['month'].isin(['Feb', 'Mar'])]"
   ]
  },
  {
   "cell_type": "markdown",
   "metadata": {},
   "source": [
    "### Flatten Monthly Temperatures\n",
    "\n",
    "Flatten monthly temperatures so we have one record per year with temperatures for just February and March."
   ]
  },
  {
   "cell_type": "markdown",
   "metadata": {},
   "source": [
    "Get February records and columns."
   ]
  },
  {
   "cell_type": "code",
   "execution_count": 43,
   "metadata": {},
   "outputs": [],
   "source": [
    "df_feb = df_merged.loc[df_merged['month'] == 'Feb']\n",
    "df_feb = df_feb.filter(items=['year', 'state', 'region', 'latitude', 'longitude', 'state_temp', 'region_temp'])\n",
    "df_feb.columns = ['year', 'state', 'region', 'latitude', 'longitude', 'feb_state_temp', 'feb_region_temp']"
   ]
  },
  {
   "cell_type": "markdown",
   "metadata": {},
   "source": [
    "Get March records and columns."
   ]
  },
  {
   "cell_type": "code",
   "execution_count": 44,
   "metadata": {},
   "outputs": [],
   "source": [
    "df_mar = df_merged.loc[df_merged['month'] == 'Mar']\n",
    "df_mar = df_mar.filter(items=['year', 'state', 'region', 'latitude', 'longitude', 'state_temp', 'region_temp'])\n",
    "df_mar.columns = ['year', 'state', 'region', 'latitude', 'longitude', 'mar_state_temp', 'mar_region_temp']"
   ]
  },
  {
   "cell_type": "markdown",
   "metadata": {},
   "source": [
    "Merge February and March records."
   ]
  },
  {
   "cell_type": "code",
   "execution_count": 45,
   "metadata": {},
   "outputs": [],
   "source": [
    "df_feb_mar = df_feb.merge(df_mar, on=['year', 'state', 'region', 'latitude', 'longitude'])\n",
    "df_feb_mar = df_feb_mar.filter(items=['state', 'region', 'latitude', 'longitude',\n",
    "                                      'feb_state_temp', 'feb_region_temp',\n",
    "                                      'mar_state_temp', 'mar_region_temp'])"
   ]
  },
  {
   "cell_type": "code",
   "execution_count": 46,
   "metadata": {},
   "outputs": [
    {
     "data": {
      "text/html": [
       "<div>\n",
       "<style scoped>\n",
       "    .dataframe tbody tr th:only-of-type {\n",
       "        vertical-align: middle;\n",
       "    }\n",
       "\n",
       "    .dataframe tbody tr th {\n",
       "        vertical-align: top;\n",
       "    }\n",
       "\n",
       "    .dataframe thead th {\n",
       "        text-align: right;\n",
       "    }\n",
       "</style>\n",
       "<table border=\"1\" class=\"dataframe\">\n",
       "  <thead>\n",
       "    <tr style=\"text-align: right;\">\n",
       "      <th></th>\n",
       "      <th>state</th>\n",
       "      <th>region</th>\n",
       "      <th>latitude</th>\n",
       "      <th>longitude</th>\n",
       "      <th>feb_state_temp</th>\n",
       "      <th>feb_region_temp</th>\n",
       "      <th>mar_state_temp</th>\n",
       "      <th>mar_region_temp</th>\n",
       "    </tr>\n",
       "  </thead>\n",
       "  <tbody>\n",
       "    <tr>\n",
       "      <th>0</th>\n",
       "      <td>Connecticut</td>\n",
       "      <td>Northeast</td>\n",
       "      <td>41.6219</td>\n",
       "      <td>-72.7273</td>\n",
       "      <td>18.7</td>\n",
       "      <td>15.6</td>\n",
       "      <td>31.5</td>\n",
       "      <td>27.6</td>\n",
       "    </tr>\n",
       "    <tr>\n",
       "      <th>1</th>\n",
       "      <td>Delaware</td>\n",
       "      <td>Northeast</td>\n",
       "      <td>38.9896</td>\n",
       "      <td>-75.5050</td>\n",
       "      <td>24.2</td>\n",
       "      <td>15.6</td>\n",
       "      <td>39.5</td>\n",
       "      <td>27.6</td>\n",
       "    </tr>\n",
       "    <tr>\n",
       "      <th>2</th>\n",
       "      <td>Maine</td>\n",
       "      <td>Northeast</td>\n",
       "      <td>45.3695</td>\n",
       "      <td>-69.2428</td>\n",
       "      <td>11.8</td>\n",
       "      <td>15.6</td>\n",
       "      <td>21.3</td>\n",
       "      <td>27.6</td>\n",
       "    </tr>\n",
       "    <tr>\n",
       "      <th>3</th>\n",
       "      <td>Maryland</td>\n",
       "      <td>Northeast</td>\n",
       "      <td>39.0550</td>\n",
       "      <td>-76.7909</td>\n",
       "      <td>23.6</td>\n",
       "      <td>15.6</td>\n",
       "      <td>39.3</td>\n",
       "      <td>27.6</td>\n",
       "    </tr>\n",
       "    <tr>\n",
       "      <th>4</th>\n",
       "      <td>Massachusetts</td>\n",
       "      <td>Northeast</td>\n",
       "      <td>42.2596</td>\n",
       "      <td>-71.8083</td>\n",
       "      <td>18.5</td>\n",
       "      <td>15.6</td>\n",
       "      <td>30.8</td>\n",
       "      <td>27.6</td>\n",
       "    </tr>\n",
       "    <tr>\n",
       "      <th>...</th>\n",
       "      <td>...</td>\n",
       "      <td>...</td>\n",
       "      <td>...</td>\n",
       "      <td>...</td>\n",
       "      <td>...</td>\n",
       "      <td>...</td>\n",
       "      <td>...</td>\n",
       "      <td>...</td>\n",
       "    </tr>\n",
       "    <tr>\n",
       "      <th>2767</th>\n",
       "      <td>Wisconsin</td>\n",
       "      <td>Upper Midwest</td>\n",
       "      <td>44.6243</td>\n",
       "      <td>-89.9941</td>\n",
       "      <td>13.5</td>\n",
       "      <td>12.6</td>\n",
       "      <td>25.7</td>\n",
       "      <td>26.3</td>\n",
       "    </tr>\n",
       "    <tr>\n",
       "      <th>2768</th>\n",
       "      <td>Iowa</td>\n",
       "      <td>Upper Midwest</td>\n",
       "      <td>42.0751</td>\n",
       "      <td>-93.4960</td>\n",
       "      <td>24.8</td>\n",
       "      <td>19.7</td>\n",
       "      <td>40.3</td>\n",
       "      <td>34.5</td>\n",
       "    </tr>\n",
       "    <tr>\n",
       "      <th>2769</th>\n",
       "      <td>Michigan</td>\n",
       "      <td>Upper Midwest</td>\n",
       "      <td>44.3467</td>\n",
       "      <td>-85.4102</td>\n",
       "      <td>23.6</td>\n",
       "      <td>19.7</td>\n",
       "      <td>35.0</td>\n",
       "      <td>34.5</td>\n",
       "    </tr>\n",
       "    <tr>\n",
       "      <th>2770</th>\n",
       "      <td>Minnesota</td>\n",
       "      <td>Upper Midwest</td>\n",
       "      <td>46.2807</td>\n",
       "      <td>-94.3053</td>\n",
       "      <td>14.0</td>\n",
       "      <td>19.7</td>\n",
       "      <td>30.4</td>\n",
       "      <td>34.5</td>\n",
       "    </tr>\n",
       "    <tr>\n",
       "      <th>2771</th>\n",
       "      <td>Wisconsin</td>\n",
       "      <td>Upper Midwest</td>\n",
       "      <td>44.6243</td>\n",
       "      <td>-89.9941</td>\n",
       "      <td>19.2</td>\n",
       "      <td>19.7</td>\n",
       "      <td>34.3</td>\n",
       "      <td>34.5</td>\n",
       "    </tr>\n",
       "  </tbody>\n",
       "</table>\n",
       "<p>2772 rows × 8 columns</p>\n",
       "</div>"
      ],
      "text/plain": [
       "              state         region  latitude  longitude  feb_state_temp  \\\n",
       "0       Connecticut      Northeast   41.6219   -72.7273            18.7   \n",
       "1          Delaware      Northeast   38.9896   -75.5050            24.2   \n",
       "2             Maine      Northeast   45.3695   -69.2428            11.8   \n",
       "3          Maryland      Northeast   39.0550   -76.7909            23.6   \n",
       "4     Massachusetts      Northeast   42.2596   -71.8083            18.5   \n",
       "...             ...            ...       ...        ...             ...   \n",
       "2767      Wisconsin  Upper Midwest   44.6243   -89.9941            13.5   \n",
       "2768           Iowa  Upper Midwest   42.0751   -93.4960            24.8   \n",
       "2769       Michigan  Upper Midwest   44.3467   -85.4102            23.6   \n",
       "2770      Minnesota  Upper Midwest   46.2807   -94.3053            14.0   \n",
       "2771      Wisconsin  Upper Midwest   44.6243   -89.9941            19.2   \n",
       "\n",
       "      feb_region_temp  mar_state_temp  mar_region_temp  \n",
       "0                15.6            31.5             27.6  \n",
       "1                15.6            39.5             27.6  \n",
       "2                15.6            21.3             27.6  \n",
       "3                15.6            39.3             27.6  \n",
       "4                15.6            30.8             27.6  \n",
       "...               ...             ...              ...  \n",
       "2767             12.6            25.7             26.3  \n",
       "2768             19.7            40.3             34.5  \n",
       "2769             19.7            35.0             34.5  \n",
       "2770             19.7            30.4             34.5  \n",
       "2771             19.7            34.3             34.5  \n",
       "\n",
       "[2772 rows x 8 columns]"
      ]
     },
     "execution_count": 46,
     "metadata": {},
     "output_type": "execute_result"
    }
   ],
   "source": [
    "df_feb_mar"
   ]
  },
  {
   "cell_type": "markdown",
   "metadata": {},
   "source": [
    "## Predict for All the States\n",
    "\n",
    "Using the first model, predict Shadow/No Shadow for al the data above. Build a file of lattitude, longitude, state temperatures, regional temperatures, and shadow."
   ]
  },
  {
   "cell_type": "markdown",
   "metadata": {},
   "source": [
    "### Predict"
   ]
  },
  {
   "cell_type": "code",
   "execution_count": 47,
   "metadata": {},
   "outputs": [
    {
     "data": {
      "text/plain": [
       "((2772, 4), (2772,))"
      ]
     },
     "execution_count": 47,
     "metadata": {},
     "output_type": "execute_result"
    }
   ],
   "source": [
    "X = df_feb_mar.iloc[:, 4:].values\n",
    "y = model.predict(X)\n",
    "\n",
    "X.shape, y.shape"
   ]
  },
  {
   "cell_type": "markdown",
   "metadata": {},
   "source": [
    "### Merge Predictions"
   ]
  },
  {
   "cell_type": "code",
   "execution_count": 48,
   "metadata": {},
   "outputs": [
    {
     "data": {
      "text/html": [
       "<div>\n",
       "<style scoped>\n",
       "    .dataframe tbody tr th:only-of-type {\n",
       "        vertical-align: middle;\n",
       "    }\n",
       "\n",
       "    .dataframe tbody tr th {\n",
       "        vertical-align: top;\n",
       "    }\n",
       "\n",
       "    .dataframe thead th {\n",
       "        text-align: right;\n",
       "    }\n",
       "</style>\n",
       "<table border=\"1\" class=\"dataframe\">\n",
       "  <thead>\n",
       "    <tr style=\"text-align: right;\">\n",
       "      <th></th>\n",
       "      <th>shadow</th>\n",
       "      <th>state</th>\n",
       "      <th>region</th>\n",
       "      <th>latitude</th>\n",
       "      <th>longitude</th>\n",
       "      <th>feb_state_temp</th>\n",
       "      <th>feb_region_temp</th>\n",
       "      <th>mar_state_temp</th>\n",
       "      <th>mar_region_temp</th>\n",
       "    </tr>\n",
       "  </thead>\n",
       "  <tbody>\n",
       "    <tr>\n",
       "      <th>0</th>\n",
       "      <td>Full Shadow</td>\n",
       "      <td>Connecticut</td>\n",
       "      <td>Northeast</td>\n",
       "      <td>41.6219</td>\n",
       "      <td>-72.7273</td>\n",
       "      <td>18.7</td>\n",
       "      <td>15.6</td>\n",
       "      <td>31.5</td>\n",
       "      <td>27.6</td>\n",
       "    </tr>\n",
       "    <tr>\n",
       "      <th>1</th>\n",
       "      <td>Full Shadow</td>\n",
       "      <td>Delaware</td>\n",
       "      <td>Northeast</td>\n",
       "      <td>38.9896</td>\n",
       "      <td>-75.5050</td>\n",
       "      <td>24.2</td>\n",
       "      <td>15.6</td>\n",
       "      <td>39.5</td>\n",
       "      <td>27.6</td>\n",
       "    </tr>\n",
       "    <tr>\n",
       "      <th>2</th>\n",
       "      <td>Full Shadow</td>\n",
       "      <td>Maine</td>\n",
       "      <td>Northeast</td>\n",
       "      <td>45.3695</td>\n",
       "      <td>-69.2428</td>\n",
       "      <td>11.8</td>\n",
       "      <td>15.6</td>\n",
       "      <td>21.3</td>\n",
       "      <td>27.6</td>\n",
       "    </tr>\n",
       "    <tr>\n",
       "      <th>3</th>\n",
       "      <td>Full Shadow</td>\n",
       "      <td>Maryland</td>\n",
       "      <td>Northeast</td>\n",
       "      <td>39.0550</td>\n",
       "      <td>-76.7909</td>\n",
       "      <td>23.6</td>\n",
       "      <td>15.6</td>\n",
       "      <td>39.3</td>\n",
       "      <td>27.6</td>\n",
       "    </tr>\n",
       "    <tr>\n",
       "      <th>4</th>\n",
       "      <td>Full Shadow</td>\n",
       "      <td>Massachusetts</td>\n",
       "      <td>Northeast</td>\n",
       "      <td>42.2596</td>\n",
       "      <td>-71.8083</td>\n",
       "      <td>18.5</td>\n",
       "      <td>15.6</td>\n",
       "      <td>30.8</td>\n",
       "      <td>27.6</td>\n",
       "    </tr>\n",
       "    <tr>\n",
       "      <th>...</th>\n",
       "      <td>...</td>\n",
       "      <td>...</td>\n",
       "      <td>...</td>\n",
       "      <td>...</td>\n",
       "      <td>...</td>\n",
       "      <td>...</td>\n",
       "      <td>...</td>\n",
       "      <td>...</td>\n",
       "      <td>...</td>\n",
       "    </tr>\n",
       "    <tr>\n",
       "      <th>2767</th>\n",
       "      <td>Full Shadow</td>\n",
       "      <td>Wisconsin</td>\n",
       "      <td>Upper Midwest</td>\n",
       "      <td>44.6243</td>\n",
       "      <td>-89.9941</td>\n",
       "      <td>13.5</td>\n",
       "      <td>12.6</td>\n",
       "      <td>25.7</td>\n",
       "      <td>26.3</td>\n",
       "    </tr>\n",
       "    <tr>\n",
       "      <th>2768</th>\n",
       "      <td>Full Shadow</td>\n",
       "      <td>Iowa</td>\n",
       "      <td>Upper Midwest</td>\n",
       "      <td>42.0751</td>\n",
       "      <td>-93.4960</td>\n",
       "      <td>24.8</td>\n",
       "      <td>19.7</td>\n",
       "      <td>40.3</td>\n",
       "      <td>34.5</td>\n",
       "    </tr>\n",
       "    <tr>\n",
       "      <th>2769</th>\n",
       "      <td>Full Shadow</td>\n",
       "      <td>Michigan</td>\n",
       "      <td>Upper Midwest</td>\n",
       "      <td>44.3467</td>\n",
       "      <td>-85.4102</td>\n",
       "      <td>23.6</td>\n",
       "      <td>19.7</td>\n",
       "      <td>35.0</td>\n",
       "      <td>34.5</td>\n",
       "    </tr>\n",
       "    <tr>\n",
       "      <th>2770</th>\n",
       "      <td>Full Shadow</td>\n",
       "      <td>Minnesota</td>\n",
       "      <td>Upper Midwest</td>\n",
       "      <td>46.2807</td>\n",
       "      <td>-94.3053</td>\n",
       "      <td>14.0</td>\n",
       "      <td>19.7</td>\n",
       "      <td>30.4</td>\n",
       "      <td>34.5</td>\n",
       "    </tr>\n",
       "    <tr>\n",
       "      <th>2771</th>\n",
       "      <td>Full Shadow</td>\n",
       "      <td>Wisconsin</td>\n",
       "      <td>Upper Midwest</td>\n",
       "      <td>44.6243</td>\n",
       "      <td>-89.9941</td>\n",
       "      <td>19.2</td>\n",
       "      <td>19.7</td>\n",
       "      <td>34.3</td>\n",
       "      <td>34.5</td>\n",
       "    </tr>\n",
       "  </tbody>\n",
       "</table>\n",
       "<p>2772 rows × 9 columns</p>\n",
       "</div>"
      ],
      "text/plain": [
       "           shadow          state         region  latitude  longitude  \\\n",
       "0     Full Shadow    Connecticut      Northeast   41.6219   -72.7273   \n",
       "1     Full Shadow       Delaware      Northeast   38.9896   -75.5050   \n",
       "2     Full Shadow          Maine      Northeast   45.3695   -69.2428   \n",
       "3     Full Shadow       Maryland      Northeast   39.0550   -76.7909   \n",
       "4     Full Shadow  Massachusetts      Northeast   42.2596   -71.8083   \n",
       "...           ...            ...            ...       ...        ...   \n",
       "2767  Full Shadow      Wisconsin  Upper Midwest   44.6243   -89.9941   \n",
       "2768  Full Shadow           Iowa  Upper Midwest   42.0751   -93.4960   \n",
       "2769  Full Shadow       Michigan  Upper Midwest   44.3467   -85.4102   \n",
       "2770  Full Shadow      Minnesota  Upper Midwest   46.2807   -94.3053   \n",
       "2771  Full Shadow      Wisconsin  Upper Midwest   44.6243   -89.9941   \n",
       "\n",
       "      feb_state_temp  feb_region_temp  mar_state_temp  mar_region_temp  \n",
       "0               18.7             15.6            31.5             27.6  \n",
       "1               24.2             15.6            39.5             27.6  \n",
       "2               11.8             15.6            21.3             27.6  \n",
       "3               23.6             15.6            39.3             27.6  \n",
       "4               18.5             15.6            30.8             27.6  \n",
       "...              ...              ...             ...              ...  \n",
       "2767            13.5             12.6            25.7             26.3  \n",
       "2768            24.8             19.7            40.3             34.5  \n",
       "2769            23.6             19.7            35.0             34.5  \n",
       "2770            14.0             19.7            30.4             34.5  \n",
       "2771            19.2             19.7            34.3             34.5  \n",
       "\n",
       "[2772 rows x 9 columns]"
      ]
     },
     "execution_count": 48,
     "metadata": {},
     "output_type": "execute_result"
    }
   ],
   "source": [
    "df_output = pd.concat([pd.DataFrame(y), df_feb_mar], axis=1)\n",
    "df_output.columns = ['shadow', 'state', 'region', 'latitude', 'longitude',\n",
    "                     'feb_state_temp', 'feb_region_temp', 'mar_state_temp', 'mar_region_temp']\n",
    "df_output"
   ]
  },
  {
   "cell_type": "markdown",
   "metadata": {},
   "source": [
    "## Save Data\n",
    "\n",
    "Save the newly minted data."
   ]
  },
  {
   "cell_type": "code",
   "execution_count": 49,
   "metadata": {},
   "outputs": [],
   "source": [
    "df_output.to_csv('data/imputed/state-predictions.csv', index=False)"
   ]
  }
 ],
 "metadata": {
  "kernelspec": {
   "display_name": "Python 3",
   "language": "python",
   "name": "python3"
  },
  "language_info": {
   "codemirror_mode": {
    "name": "ipython",
    "version": 3
   },
   "file_extension": ".py",
   "mimetype": "text/x-python",
   "name": "python",
   "nbconvert_exporter": "python",
   "pygments_lexer": "ipython3",
   "version": "3.8.6"
  }
 },
 "nbformat": 4,
 "nbformat_minor": 4
}
