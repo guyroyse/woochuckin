{
 "cells": [
  {
   "cell_type": "markdown",
   "metadata": {},
   "source": [
    "# Build Preliminary Model\n",
    "\n",
    "Make a model that predicts if Phil will see his shadow based on the temperature data from Pennsylvania and the Northeast."
   ]
  },
  {
   "cell_type": "markdown",
   "metadata": {},
   "source": [
    "## Clean and Format Data"
   ]
  },
  {
   "cell_type": "code",
   "execution_count": 1,
   "metadata": {},
   "outputs": [],
   "source": [
    "import pandas as pd"
   ]
  },
  {
   "cell_type": "markdown",
   "metadata": {},
   "source": [
    "### Load Data\n",
    "\n",
    "Load the data from the CSV and use more terse column names."
   ]
  },
  {
   "cell_type": "code",
   "execution_count": 4,
   "metadata": {},
   "outputs": [],
   "source": [
    "df = pd.read_csv('data/phil-results-and-temperature.csv', encoding='utf-8')\n",
    "df.columns = [\n",
    "    'year', 'shadow', \n",
    "    'feb_temp', 'feb_temp_ne', 'feb_temp_mw', 'feb_temp_pa',\n",
    "    'mar_temp', 'mar_temp_ne', 'mar_temp_mw', 'mar_temp_pa']"
   ]
  },
  {
   "cell_type": "code",
   "execution_count": 5,
   "metadata": {},
   "outputs": [
    {
     "data": {
      "text/html": [
       "<div>\n",
       "<style scoped>\n",
       "    .dataframe tbody tr th:only-of-type {\n",
       "        vertical-align: middle;\n",
       "    }\n",
       "\n",
       "    .dataframe tbody tr th {\n",
       "        vertical-align: top;\n",
       "    }\n",
       "\n",
       "    .dataframe thead th {\n",
       "        text-align: right;\n",
       "    }\n",
       "</style>\n",
       "<table border=\"1\" class=\"dataframe\">\n",
       "  <thead>\n",
       "    <tr style=\"text-align: right;\">\n",
       "      <th></th>\n",
       "      <th>year</th>\n",
       "      <th>shadow</th>\n",
       "      <th>feb_temp</th>\n",
       "      <th>feb_temp_ne</th>\n",
       "      <th>feb_temp_mw</th>\n",
       "      <th>feb_temp_pa</th>\n",
       "      <th>mar_temp</th>\n",
       "      <th>mar_temp_ne</th>\n",
       "      <th>mar_temp_mw</th>\n",
       "      <th>mar_temp_pa</th>\n",
       "    </tr>\n",
       "  </thead>\n",
       "  <tbody>\n",
       "    <tr>\n",
       "      <th>0</th>\n",
       "      <td>1898</td>\n",
       "      <td>Full Shadow</td>\n",
       "      <td>35.37</td>\n",
       "      <td>24.8</td>\n",
       "      <td>33.3</td>\n",
       "      <td>26.7</td>\n",
       "      <td>41.05</td>\n",
       "      <td>38.0</td>\n",
       "      <td>46.0</td>\n",
       "      <td>42.0</td>\n",
       "    </tr>\n",
       "    <tr>\n",
       "      <th>1</th>\n",
       "      <td>1900</td>\n",
       "      <td>Full Shadow</td>\n",
       "      <td>30.76</td>\n",
       "      <td>21.4</td>\n",
       "      <td>27.5</td>\n",
       "      <td>24.1</td>\n",
       "      <td>41.27</td>\n",
       "      <td>26.0</td>\n",
       "      <td>37.9</td>\n",
       "      <td>29.3</td>\n",
       "    </tr>\n",
       "    <tr>\n",
       "      <th>2</th>\n",
       "      <td>1901</td>\n",
       "      <td>Full Shadow</td>\n",
       "      <td>29.86</td>\n",
       "      <td>16.0</td>\n",
       "      <td>26.2</td>\n",
       "      <td>18.9</td>\n",
       "      <td>40.71</td>\n",
       "      <td>30.8</td>\n",
       "      <td>41.9</td>\n",
       "      <td>35.1</td>\n",
       "    </tr>\n",
       "    <tr>\n",
       "      <th>3</th>\n",
       "      <td>1903</td>\n",
       "      <td>Full Shadow</td>\n",
       "      <td>28.42</td>\n",
       "      <td>24.5</td>\n",
       "      <td>31.3</td>\n",
       "      <td>28.0</td>\n",
       "      <td>42.21</td>\n",
       "      <td>40.4</td>\n",
       "      <td>47.7</td>\n",
       "      <td>44.5</td>\n",
       "    </tr>\n",
       "    <tr>\n",
       "      <th>4</th>\n",
       "      <td>1904</td>\n",
       "      <td>Full Shadow</td>\n",
       "      <td>31.59</td>\n",
       "      <td>15.0</td>\n",
       "      <td>28.2</td>\n",
       "      <td>19.2</td>\n",
       "      <td>41.76</td>\n",
       "      <td>29.8</td>\n",
       "      <td>42.8</td>\n",
       "      <td>34.0</td>\n",
       "    </tr>\n",
       "    <tr>\n",
       "      <th>...</th>\n",
       "      <td>...</td>\n",
       "      <td>...</td>\n",
       "      <td>...</td>\n",
       "      <td>...</td>\n",
       "      <td>...</td>\n",
       "      <td>...</td>\n",
       "      <td>...</td>\n",
       "      <td>...</td>\n",
       "      <td>...</td>\n",
       "      <td>...</td>\n",
       "    </tr>\n",
       "    <tr>\n",
       "      <th>110</th>\n",
       "      <td>2012</td>\n",
       "      <td>Full Shadow</td>\n",
       "      <td>37.51</td>\n",
       "      <td>30.6</td>\n",
       "      <td>38.6</td>\n",
       "      <td>34.3</td>\n",
       "      <td>50.41</td>\n",
       "      <td>43.4</td>\n",
       "      <td>56.3</td>\n",
       "      <td>47.7</td>\n",
       "    </tr>\n",
       "    <tr>\n",
       "      <th>111</th>\n",
       "      <td>2013</td>\n",
       "      <td>No Shadow</td>\n",
       "      <td>34.77</td>\n",
       "      <td>25.3</td>\n",
       "      <td>33.4</td>\n",
       "      <td>27.4</td>\n",
       "      <td>40.91</td>\n",
       "      <td>32.7</td>\n",
       "      <td>37.3</td>\n",
       "      <td>33.9</td>\n",
       "    </tr>\n",
       "    <tr>\n",
       "      <th>112</th>\n",
       "      <td>2014</td>\n",
       "      <td>Full Shadow</td>\n",
       "      <td>32.13</td>\n",
       "      <td>21.0</td>\n",
       "      <td>27.1</td>\n",
       "      <td>22.8</td>\n",
       "      <td>40.51</td>\n",
       "      <td>26.0</td>\n",
       "      <td>38.0</td>\n",
       "      <td>30.3</td>\n",
       "    </tr>\n",
       "    <tr>\n",
       "      <th>113</th>\n",
       "      <td>2015</td>\n",
       "      <td>Full Shadow</td>\n",
       "      <td>32.99</td>\n",
       "      <td>12.1</td>\n",
       "      <td>23.4</td>\n",
       "      <td>16.1</td>\n",
       "      <td>45.39</td>\n",
       "      <td>27.8</td>\n",
       "      <td>41.6</td>\n",
       "      <td>31.6</td>\n",
       "    </tr>\n",
       "    <tr>\n",
       "      <th>114</th>\n",
       "      <td>2016</td>\n",
       "      <td>No Shadow</td>\n",
       "      <td>39.47</td>\n",
       "      <td>28.1</td>\n",
       "      <td>36.9</td>\n",
       "      <td>30.8</td>\n",
       "      <td>47.50</td>\n",
       "      <td>38.8</td>\n",
       "      <td>49.5</td>\n",
       "      <td>43.4</td>\n",
       "    </tr>\n",
       "  </tbody>\n",
       "</table>\n",
       "<p>115 rows × 10 columns</p>\n",
       "</div>"
      ],
      "text/plain": [
       "     year       shadow  feb_temp  feb_temp_ne  feb_temp_mw  feb_temp_pa  \\\n",
       "0    1898  Full Shadow     35.37         24.8         33.3         26.7   \n",
       "1    1900  Full Shadow     30.76         21.4         27.5         24.1   \n",
       "2    1901  Full Shadow     29.86         16.0         26.2         18.9   \n",
       "3    1903  Full Shadow     28.42         24.5         31.3         28.0   \n",
       "4    1904  Full Shadow     31.59         15.0         28.2         19.2   \n",
       "..    ...          ...       ...          ...          ...          ...   \n",
       "110  2012  Full Shadow     37.51         30.6         38.6         34.3   \n",
       "111  2013    No Shadow     34.77         25.3         33.4         27.4   \n",
       "112  2014  Full Shadow     32.13         21.0         27.1         22.8   \n",
       "113  2015  Full Shadow     32.99         12.1         23.4         16.1   \n",
       "114  2016    No Shadow     39.47         28.1         36.9         30.8   \n",
       "\n",
       "     mar_temp  mar_temp_ne  mar_temp_mw  mar_temp_pa  \n",
       "0       41.05         38.0         46.0         42.0  \n",
       "1       41.27         26.0         37.9         29.3  \n",
       "2       40.71         30.8         41.9         35.1  \n",
       "3       42.21         40.4         47.7         44.5  \n",
       "4       41.76         29.8         42.8         34.0  \n",
       "..        ...          ...          ...          ...  \n",
       "110     50.41         43.4         56.3         47.7  \n",
       "111     40.91         32.7         37.3         33.9  \n",
       "112     40.51         26.0         38.0         30.3  \n",
       "113     45.39         27.8         41.6         31.6  \n",
       "114     47.50         38.8         49.5         43.4  \n",
       "\n",
       "[115 rows x 10 columns]"
      ]
     },
     "execution_count": 5,
     "metadata": {},
     "output_type": "execute_result"
    }
   ],
   "source": [
    "df"
   ]
  },
  {
   "cell_type": "markdown",
   "metadata": {},
   "source": [
    "### Filter Columns\n",
    "\n",
    "Select just the columns we need for our model and make the column names more focused."
   ]
  },
  {
   "cell_type": "code",
   "execution_count": 6,
   "metadata": {},
   "outputs": [],
   "source": [
    "df_filtered = df.filter(items=['shadow', 'feb_temp_ne', 'feb_temp_pa', 'mar_temp_ne', 'mar_temp_pa'])\n",
    "df_filtered.columns = ['shadow', 'feb_temp_region', 'feb_temp_state', 'mar_temp_region', 'mar_temp_state']"
   ]
  },
  {
   "cell_type": "code",
   "execution_count": 7,
   "metadata": {},
   "outputs": [
    {
     "data": {
      "text/html": [
       "<div>\n",
       "<style scoped>\n",
       "    .dataframe tbody tr th:only-of-type {\n",
       "        vertical-align: middle;\n",
       "    }\n",
       "\n",
       "    .dataframe tbody tr th {\n",
       "        vertical-align: top;\n",
       "    }\n",
       "\n",
       "    .dataframe thead th {\n",
       "        text-align: right;\n",
       "    }\n",
       "</style>\n",
       "<table border=\"1\" class=\"dataframe\">\n",
       "  <thead>\n",
       "    <tr style=\"text-align: right;\">\n",
       "      <th></th>\n",
       "      <th>shadow</th>\n",
       "      <th>feb_temp_region</th>\n",
       "      <th>feb_temp_state</th>\n",
       "      <th>mar_temp_region</th>\n",
       "      <th>mar_temp_state</th>\n",
       "    </tr>\n",
       "  </thead>\n",
       "  <tbody>\n",
       "    <tr>\n",
       "      <th>0</th>\n",
       "      <td>Full Shadow</td>\n",
       "      <td>24.8</td>\n",
       "      <td>26.7</td>\n",
       "      <td>38.0</td>\n",
       "      <td>42.0</td>\n",
       "    </tr>\n",
       "    <tr>\n",
       "      <th>1</th>\n",
       "      <td>Full Shadow</td>\n",
       "      <td>21.4</td>\n",
       "      <td>24.1</td>\n",
       "      <td>26.0</td>\n",
       "      <td>29.3</td>\n",
       "    </tr>\n",
       "    <tr>\n",
       "      <th>2</th>\n",
       "      <td>Full Shadow</td>\n",
       "      <td>16.0</td>\n",
       "      <td>18.9</td>\n",
       "      <td>30.8</td>\n",
       "      <td>35.1</td>\n",
       "    </tr>\n",
       "    <tr>\n",
       "      <th>3</th>\n",
       "      <td>Full Shadow</td>\n",
       "      <td>24.5</td>\n",
       "      <td>28.0</td>\n",
       "      <td>40.4</td>\n",
       "      <td>44.5</td>\n",
       "    </tr>\n",
       "    <tr>\n",
       "      <th>4</th>\n",
       "      <td>Full Shadow</td>\n",
       "      <td>15.0</td>\n",
       "      <td>19.2</td>\n",
       "      <td>29.8</td>\n",
       "      <td>34.0</td>\n",
       "    </tr>\n",
       "    <tr>\n",
       "      <th>...</th>\n",
       "      <td>...</td>\n",
       "      <td>...</td>\n",
       "      <td>...</td>\n",
       "      <td>...</td>\n",
       "      <td>...</td>\n",
       "    </tr>\n",
       "    <tr>\n",
       "      <th>110</th>\n",
       "      <td>Full Shadow</td>\n",
       "      <td>30.6</td>\n",
       "      <td>34.3</td>\n",
       "      <td>43.4</td>\n",
       "      <td>47.7</td>\n",
       "    </tr>\n",
       "    <tr>\n",
       "      <th>111</th>\n",
       "      <td>No Shadow</td>\n",
       "      <td>25.3</td>\n",
       "      <td>27.4</td>\n",
       "      <td>32.7</td>\n",
       "      <td>33.9</td>\n",
       "    </tr>\n",
       "    <tr>\n",
       "      <th>112</th>\n",
       "      <td>Full Shadow</td>\n",
       "      <td>21.0</td>\n",
       "      <td>22.8</td>\n",
       "      <td>26.0</td>\n",
       "      <td>30.3</td>\n",
       "    </tr>\n",
       "    <tr>\n",
       "      <th>113</th>\n",
       "      <td>Full Shadow</td>\n",
       "      <td>12.1</td>\n",
       "      <td>16.1</td>\n",
       "      <td>27.8</td>\n",
       "      <td>31.6</td>\n",
       "    </tr>\n",
       "    <tr>\n",
       "      <th>114</th>\n",
       "      <td>No Shadow</td>\n",
       "      <td>28.1</td>\n",
       "      <td>30.8</td>\n",
       "      <td>38.8</td>\n",
       "      <td>43.4</td>\n",
       "    </tr>\n",
       "  </tbody>\n",
       "</table>\n",
       "<p>115 rows × 5 columns</p>\n",
       "</div>"
      ],
      "text/plain": [
       "          shadow  feb_temp_region  feb_temp_state  mar_temp_region  \\\n",
       "0    Full Shadow             24.8            26.7             38.0   \n",
       "1    Full Shadow             21.4            24.1             26.0   \n",
       "2    Full Shadow             16.0            18.9             30.8   \n",
       "3    Full Shadow             24.5            28.0             40.4   \n",
       "4    Full Shadow             15.0            19.2             29.8   \n",
       "..           ...              ...             ...              ...   \n",
       "110  Full Shadow             30.6            34.3             43.4   \n",
       "111    No Shadow             25.3            27.4             32.7   \n",
       "112  Full Shadow             21.0            22.8             26.0   \n",
       "113  Full Shadow             12.1            16.1             27.8   \n",
       "114    No Shadow             28.1            30.8             38.8   \n",
       "\n",
       "     mar_temp_state  \n",
       "0              42.0  \n",
       "1              29.3  \n",
       "2              35.1  \n",
       "3              44.5  \n",
       "4              34.0  \n",
       "..              ...  \n",
       "110            47.7  \n",
       "111            33.9  \n",
       "112            30.3  \n",
       "113            31.6  \n",
       "114            43.4  \n",
       "\n",
       "[115 rows x 5 columns]"
      ]
     },
     "execution_count": 7,
     "metadata": {},
     "output_type": "execute_result"
    }
   ],
   "source": [
    "df_filtered"
   ]
  },
  {
   "cell_type": "markdown",
   "metadata": {},
   "source": [
    "### Understand Our Data"
   ]
  },
  {
   "cell_type": "code",
   "execution_count": 12,
   "metadata": {},
   "outputs": [
    {
     "data": {
      "text/plain": [
       "Full Shadow    100\n",
       "No Shadow       15\n",
       "Name: shadow, dtype: int64"
      ]
     },
     "execution_count": 12,
     "metadata": {},
     "output_type": "execute_result"
    }
   ],
   "source": [
    "df_filtered.shadow.value_counts()"
   ]
  },
  {
   "cell_type": "code",
   "execution_count": 13,
   "metadata": {},
   "outputs": [
    {
     "data": {
      "text/plain": [
       "Full Shadow    0.869565\n",
       "No Shadow      0.130435\n",
       "Name: shadow, dtype: float64"
      ]
     },
     "execution_count": 13,
     "metadata": {},
     "output_type": "execute_result"
    }
   ],
   "source": [
    "df_filtered.shadow.value_counts(normalize=True)"
   ]
  },
  {
   "cell_type": "code",
   "execution_count": 14,
   "metadata": {},
   "outputs": [
    {
     "data": {
      "text/plain": [
       "array([[<AxesSubplot:title={'center':'feb_temp_region'}>,\n",
       "        <AxesSubplot:title={'center':'feb_temp_state'}>],\n",
       "       [<AxesSubplot:title={'center':'mar_temp_region'}>,\n",
       "        <AxesSubplot:title={'center':'mar_temp_state'}>]], dtype=object)"
      ]
     },
     "execution_count": 14,
     "metadata": {},
     "output_type": "execute_result"
    },
    {
     "data": {
      "image/png": "[encoded data removed]",
      "text/plain": [
       "<Figure size 432x288 with 4 Axes>"
      ]
     },
     "metadata": {
      "needs_background": "light"
     },
     "output_type": "display_data"
    }
   ],
   "source": [
    "df_filtered.hist()"
   ]
  },
  {
   "cell_type": "code",
   "execution_count": 15,
   "metadata": {
    "scrolled": true
   },
   "outputs": [
    {
     "data": {
      "text/plain": [
       "shadow\n",
       "Full Shadow    [[AxesSubplot(0.125,0.551739;0.336957x0.328261...\n",
       "No Shadow      [[AxesSubplot(0.125,0.551739;0.336957x0.328261...\n",
       "dtype: object"
      ]
     },
     "execution_count": 15,
     "metadata": {},
     "output_type": "execute_result"
    },
    {
     "data": {
      "image/png": "[encoded data removed]",
      "text/plain": [
       "<Figure size 432x288 with 4 Axes>"
      ]
     },
     "metadata": {
      "needs_background": "light"
     },
     "output_type": "display_data"
    },
    {
     "data": {
      "image/png": "[encoded data removed]",
      "text/plain": [
       "<Figure size 432x288 with 4 Axes>"
      ]
     },
     "metadata": {
      "needs_background": "light"
     },
     "output_type": "display_data"
    }
   ],
   "source": [
    "df_filtered.groupby('shadow').hist()"
   ]
  },
  {
   "cell_type": "markdown",
   "metadata": {},
   "source": [
    "### Targets & Features\n",
    "\n",
    "Get the values for the target and the features."
   ]
  },
  {
   "cell_type": "code",
   "execution_count": 28,
   "metadata": {},
   "outputs": [],
   "source": [
    "df_target = df_filtered.iloc[:, 0]\n",
    "df_features = df_filtered.iloc[:, 1:].astype(float)\n",
    "\n",
    "X, y = df_features.values, df_target.values"
   ]
  },
  {
   "cell_type": "code",
   "execution_count": 29,
   "metadata": {},
   "outputs": [
    {
     "data": {
      "text/plain": [
       "((115, 4), (115,))"
      ]
     },
     "execution_count": 29,
     "metadata": {},
     "output_type": "execute_result"
    }
   ],
   "source": [
    "X.shape, y.shape"
   ]
  },
  {
   "cell_type": "markdown",
   "metadata": {},
   "source": [
    "### Balancing Our Data\n",
    "\n",
    "Our data is way out of balance. Balance it to improve the results of our model."
   ]
  },
  {
   "cell_type": "code",
   "execution_count": 33,
   "metadata": {},
   "outputs": [],
   "source": [
    "from imblearn.over_sampling import RandomOverSampler"
   ]
  },
  {
   "cell_type": "code",
   "execution_count": 35,
   "metadata": {},
   "outputs": [],
   "source": [
    "oversampler = RandomOverSampler(sampling_strategy='minority')\n",
    "X_over, y_over = oversampler.fit_resample(X, y)"
   ]
  },
  {
   "cell_type": "code",
   "execution_count": 36,
   "metadata": {},
   "outputs": [
    {
     "data": {
      "text/plain": [
       "((200, 4), (200,))"
      ]
     },
     "execution_count": 36,
     "metadata": {},
     "output_type": "execute_result"
    }
   ],
   "source": [
    "X_over.shape, y_over.shape"
   ]
  },
  {
   "cell_type": "markdown",
   "metadata": {},
   "source": [
    "## Build the Model"
   ]
  },
  {
   "cell_type": "markdown",
   "metadata": {},
   "source": [
    "### Train/Test Split\n",
    "\n",
    "Split the training and testing data 80/20."
   ]
  },
  {
   "cell_type": "code",
   "execution_count": 68,
   "metadata": {},
   "outputs": [],
   "source": [
    "from sklearn.model_selection import train_test_split"
   ]
  },
  {
   "cell_type": "code",
   "execution_count": 69,
   "metadata": {},
   "outputs": [],
   "source": [
    "X_train, X_test, y_train, y_test = train_test_split(X_over, y_over, train_size=0.80, test_size=0.20, random_state=0)"
   ]
  },
  {
   "cell_type": "code",
   "execution_count": 70,
   "metadata": {},
   "outputs": [
    {
     "data": {
      "text/plain": [
       "((160, 4), (40, 4), (160,), (40,))"
      ]
     },
     "execution_count": 70,
     "metadata": {},
     "output_type": "execute_result"
    }
   ],
   "source": [
    "X_train.shape, X_test.shape, y_train.shape, y_test.shape"
   ]
  },
  {
   "cell_type": "markdown",
   "metadata": {},
   "source": [
    "### Train a Support Vector Machine"
   ]
  },
  {
   "cell_type": "code",
   "execution_count": 184,
   "metadata": {},
   "outputs": [],
   "source": [
    "from sklearn.svm import LinearSVC"
   ]
  },
  {
   "cell_type": "code",
   "execution_count": 185,
   "metadata": {},
   "outputs": [],
   "source": [
    "svm = LinearSVC(dual=False, random_state=0).fit(X_train, y_train)"
   ]
  },
  {
   "cell_type": "code",
   "execution_count": 186,
   "metadata": {},
   "outputs": [
    {
     "data": {
      "text/plain": [
       "array(['Full Shadow', 'Full Shadow', 'Full Shadow', 'No Shadow',\n",
       "       'Full Shadow', 'Full Shadow', 'Full Shadow', 'No Shadow',\n",
       "       'Full Shadow', 'Full Shadow', 'Full Shadow', 'Full Shadow',\n",
       "       'No Shadow', 'Full Shadow', 'Full Shadow', 'Full Shadow',\n",
       "       'Full Shadow', 'Full Shadow', 'Full Shadow', 'Full Shadow',\n",
       "       'Full Shadow', 'Full Shadow', 'No Shadow', 'Full Shadow',\n",
       "       'No Shadow', 'Full Shadow', 'No Shadow', 'Full Shadow',\n",
       "       'No Shadow', 'No Shadow', 'Full Shadow', 'No Shadow', 'No Shadow',\n",
       "       'No Shadow', 'No Shadow', 'Full Shadow', 'No Shadow',\n",
       "       'Full Shadow', 'Full Shadow', 'Full Shadow'], dtype=object)"
      ]
     },
     "execution_count": 186,
     "metadata": {},
     "output_type": "execute_result"
    }
   ],
   "source": [
    "svm.predict(X_test)"
   ]
  },
  {
   "cell_type": "code",
   "execution_count": 187,
   "metadata": {},
   "outputs": [
    {
     "data": {
      "text/plain": [
       "0.525"
      ]
     },
     "execution_count": 187,
     "metadata": {},
     "output_type": "execute_result"
    }
   ],
   "source": [
    "svm.score(X_test, y_test)"
   ]
  },
  {
   "cell_type": "markdown",
   "metadata": {},
   "source": [
    "### Train a Logistic Regresion"
   ]
  },
  {
   "cell_type": "code",
   "execution_count": 188,
   "metadata": {},
   "outputs": [],
   "source": [
    "from sklearn.linear_model import LogisticRegression"
   ]
  },
  {
   "cell_type": "code",
   "execution_count": 189,
   "metadata": {},
   "outputs": [],
   "source": [
    "lr = LogisticRegression(solver='lbfgs', multi_class='ovr', random_state=0).fit(X_train, y_train)"
   ]
  },
  {
   "cell_type": "code",
   "execution_count": 190,
   "metadata": {
    "scrolled": true
   },
   "outputs": [
    {
     "data": {
      "text/plain": [
       "array(['Full Shadow', 'Full Shadow', 'Full Shadow', 'No Shadow',\n",
       "       'Full Shadow', 'Full Shadow', 'Full Shadow', 'No Shadow',\n",
       "       'Full Shadow', 'Full Shadow', 'Full Shadow', 'Full Shadow',\n",
       "       'No Shadow', 'Full Shadow', 'Full Shadow', 'Full Shadow',\n",
       "       'Full Shadow', 'Full Shadow', 'Full Shadow', 'Full Shadow',\n",
       "       'Full Shadow', 'Full Shadow', 'No Shadow', 'Full Shadow',\n",
       "       'No Shadow', 'Full Shadow', 'No Shadow', 'Full Shadow',\n",
       "       'No Shadow', 'No Shadow', 'Full Shadow', 'No Shadow', 'No Shadow',\n",
       "       'No Shadow', 'No Shadow', 'Full Shadow', 'No Shadow',\n",
       "       'Full Shadow', 'Full Shadow', 'Full Shadow'], dtype=object)"
      ]
     },
     "execution_count": 190,
     "metadata": {},
     "output_type": "execute_result"
    }
   ],
   "source": [
    "lr.predict(X_test)"
   ]
  },
  {
   "cell_type": "code",
   "execution_count": 192,
   "metadata": {
    "scrolled": true
   },
   "outputs": [
    {
     "data": {
      "text/plain": [
       "0.525"
      ]
     },
     "execution_count": 192,
     "metadata": {},
     "output_type": "execute_result"
    }
   ],
   "source": [
    "lr.score(X_test, y_test)"
   ]
  },
  {
   "cell_type": "markdown",
   "metadata": {},
   "source": [
    "### Train a Random Forest"
   ]
  },
  {
   "cell_type": "code",
   "execution_count": 193,
   "metadata": {},
   "outputs": [],
   "source": [
    "from sklearn.ensemble import RandomForestClassifier"
   ]
  },
  {
   "cell_type": "code",
   "execution_count": 211,
   "metadata": {},
   "outputs": [],
   "source": [
    "rf = RandomForestClassifier(n_estimators=100, max_depth=3, random_state=0).fit(X_train, y_train)"
   ]
  },
  {
   "cell_type": "code",
   "execution_count": 212,
   "metadata": {},
   "outputs": [
    {
     "data": {
      "text/plain": [
       "array(['Full Shadow', 'No Shadow', 'No Shadow', 'No Shadow', 'No Shadow',\n",
       "       'No Shadow', 'Full Shadow', 'No Shadow', 'Full Shadow',\n",
       "       'No Shadow', 'Full Shadow', 'No Shadow', 'No Shadow', 'No Shadow',\n",
       "       'No Shadow', 'Full Shadow', 'Full Shadow', 'No Shadow',\n",
       "       'No Shadow', 'Full Shadow', 'No Shadow', 'No Shadow',\n",
       "       'Full Shadow', 'No Shadow', 'Full Shadow', 'No Shadow',\n",
       "       'No Shadow', 'No Shadow', 'No Shadow', 'Full Shadow',\n",
       "       'Full Shadow', 'No Shadow', 'No Shadow', 'No Shadow', 'No Shadow',\n",
       "       'No Shadow', 'No Shadow', 'Full Shadow', 'No Shadow', 'No Shadow'],\n",
       "      dtype=object)"
      ]
     },
     "execution_count": 212,
     "metadata": {},
     "output_type": "execute_result"
    }
   ],
   "source": [
    "    rf.predict(X_test)"
   ]
  },
  {
   "cell_type": "code",
   "execution_count": 213,
   "metadata": {},
   "outputs": [
    {
     "data": {
      "text/plain": [
       "0.8"
      ]
     },
     "execution_count": 213,
     "metadata": {},
     "output_type": "execute_result"
    }
   ],
   "source": [
    "    rf.score(X_test, y_test)"
   ]
  },
  {
   "cell_type": "markdown",
   "metadata": {},
   "source": [
    "### Train a KNN Classifier"
   ]
  },
  {
   "cell_type": "code",
   "execution_count": 201,
   "metadata": {},
   "outputs": [],
   "source": [
    "from sklearn.neighbors import KNeighborsClassifier"
   ]
  },
  {
   "cell_type": "code",
   "execution_count": 205,
   "metadata": {},
   "outputs": [],
   "source": [
    "knn = KNeighborsClassifier(n_neighbors=3).fit(X_train, y_train)"
   ]
  },
  {
   "cell_type": "code",
   "execution_count": 206,
   "metadata": {},
   "outputs": [
    {
     "data": {
      "text/plain": [
       "array(['Full Shadow', 'No Shadow', 'Full Shadow', 'No Shadow',\n",
       "       'No Shadow', 'No Shadow', 'No Shadow', 'No Shadow', 'Full Shadow',\n",
       "       'No Shadow', 'No Shadow', 'No Shadow', 'No Shadow', 'No Shadow',\n",
       "       'Full Shadow', 'No Shadow', 'No Shadow', 'No Shadow',\n",
       "       'Full Shadow', 'No Shadow', 'No Shadow', 'No Shadow',\n",
       "       'Full Shadow', 'No Shadow', 'Full Shadow', 'No Shadow',\n",
       "       'No Shadow', 'No Shadow', 'No Shadow', 'Full Shadow',\n",
       "       'Full Shadow', 'Full Shadow', 'No Shadow', 'No Shadow',\n",
       "       'No Shadow', 'No Shadow', 'No Shadow', 'Full Shadow',\n",
       "       'Full Shadow', 'No Shadow'], dtype=object)"
      ]
     },
     "execution_count": 206,
     "metadata": {},
     "output_type": "execute_result"
    }
   ],
   "source": [
    "knn.predict(X_test)"
   ]
  },
  {
   "cell_type": "code",
   "execution_count": 207,
   "metadata": {},
   "outputs": [
    {
     "data": {
      "text/plain": [
       "0.8"
      ]
     },
     "execution_count": 207,
     "metadata": {},
     "output_type": "execute_result"
    }
   ],
   "source": [
    "knn.score(X_test, y_test)"
   ]
  },
  {
   "cell_type": "markdown",
   "metadata": {},
   "source": [
    "# Build Main Model\n",
    "\n",
    "Make a model that predicts if Phil will see his shadow based on the temperature data for the state, the temperature data for the region, and the latitude of the requester."
   ]
  },
  {
   "cell_type": "markdown",
   "metadata": {},
   "source": [
    "## Merge Weather Data\n",
    "\n",
    "Combine the monthy average temperatures for state and region into a single file."
   ]
  },
  {
   "cell_type": "markdown",
   "metadata": {},
   "source": [
    "## Predict for All the States\n",
    "\n",
    "Using the first model, predict Shadow/No Shadow for temperates for all the states over time. Build a file of lattitude, longitude, state temperatures, regional temperatures, and shadow."
   ]
  },
  {
   "cell_type": "markdown",
   "metadata": {},
   "source": [
    "## Build Model using the New File\n",
    "\n",
    "Using the new data, build a model to predict Phil's shadow everywhere groundhogs are to be found."
   ]
  }
 ],
 "metadata": {
  "kernelspec": {
   "display_name": "Python 3",
   "language": "python",
   "name": "python3"
  },
  "language_info": {
   "codemirror_mode": {
    "name": "ipython",
    "version": 3
   },
   "file_extension": ".py",
   "mimetype": "text/x-python",
   "name": "python",
   "nbconvert_exporter": "python",
   "pygments_lexer": "ipython3",
   "version": "3.8.6"
  }
 },
 "nbformat": 4,
 "nbformat_minor": 4
}
